{
 "cells": [
  {
   "cell_type": "code",
   "execution_count": 198,
   "metadata": {},
   "outputs": [],
   "source": [
    "import pandas as pd\n",
    "import numpy as np\n",
    "import matplotlib.pyplot as plt\n",
    "import torch\n",
    "import torch.nn\n",
    "import torch.optim\n",
    "np.set_printoptions(threshold=1e3, suppress=True, precision=2, linewidth=80)"
   ]
  },
  {
   "cell_type": "code",
   "execution_count": 158,
   "metadata": {},
   "outputs": [],
   "source": [
    "class Dataset:\n",
    "    def __init__(self):\n",
    "        self.X = None\n",
    "        self.X_t = None\n",
    "        self.y_hat = None\n",
    "        self.df = None\n",
    "        self.w = None\n",
    "    def normalize(self):\n",
    "        mean_x = np.nanmean(self.X, axis=1)\n",
    "        std_x = np.nanstd(self.X, axis=1)\n",
    "        std_x[std_x == 0] = 1\n",
    "        self.X = (self.X - mean_x[:, np.newaxis]) / std_x[:, np.newaxis]\n",
    "        self.X_t = self.X.T\n",
    "\n",
    "trainset = Dataset()\n",
    "trainset.df = pd.read_csv('train_datas_0.csv', dtype='float', na_values='-')\n",
    "trainset.df1 = pd.read_csv('train_datas_1.csv').apply(pd.to_numeric, errors='coerce')\n",
    "\n",
    "testset = Dataset()\n",
    "testset.df = pd.read_csv('test_datas.csv', dtype='float', na_values='-')"
   ]
  },
  {
   "cell_type": "code",
   "execution_count": null,
   "metadata": {},
   "outputs": [],
   "source": []
  },
  {
   "cell_type": "code",
   "execution_count": 215,
   "metadata": {},
   "outputs": [],
   "source": [
    "def preprocess_training_data(sel_cols=['PM2.5']):\n",
    "    # correct dataframe\n",
    "    trainset.df1.drop(trainset.df1.index[-2+2162:-2+2208], inplace=True)\n",
    "    trainset.df1.dropna(how='all', inplace=True)\n",
    "    trainset.df1.drop(trainset.df1.index[(trainset.df1 == 0).all(axis=1)], inplace=True)\n",
    "    for s in (trainset.df, trainset.df1, testset.df):\n",
    "        for cnam in s.columns:\n",
    "            # fill NaN with mean\n",
    "            s[cnam].fillna(s[cnam].mean(), inplace=True)\n",
    "\n",
    "            # replace outlier with mean\n",
    "            # TODO: inplace?\n",
    "            s[cnam][abs(s[cnam] - s[cnam].mean()) > 10 * s[cnam].std()] = s[cnam].mean()\n",
    "\n",
    "        s.reindex()\n",
    "\n",
    "    # extract feature\n",
    "    c = len(sel_cols)\n",
    "    d = c * 9 * 2 + 18\n",
    "    n = len(trainset.df) - 9 + len(trainset.df1) - 9\n",
    "    X = torch.zeros((n, d))\n",
    "    y_hat = torch.zeros((n, 1))\n",
    "    \n",
    "    for i in range(len(trainset.df)-9):\n",
    "        X[i, 0:c*9] = torch.tensor(trainset.df.iloc[i:i+9][sel_cols].values.flatten())\n",
    "        X[i, c*9:c*9*2] = X[i, 0:c*9] ** 2\n",
    "        for j in range(9):\n",
    "            X[i, c*9*2+j] = (i+j) % 24 # hour\n",
    "        for j in range(9):\n",
    "            X[i, c*9*2+9+j] = ((i+j) // 24) % 365 # day\n",
    "        y_hat[i] = trainset.df.iloc[i+9]['PM2.5']\n",
    "    \n",
    "#     off = len(trainset.df) - 9\n",
    "#     for i in range(len(trainset.df1)-9):\n",
    "#         X[i+off, 0:15*9] = torch.tensor(trainset.df1.iloc[i:i+9].values.flatten())\n",
    "#         X[i+off, 15*9] = i % 24 # hour\n",
    "#         X[i+off, 15*9+1] = (i // 24) % 365 # day\n",
    "#         y_hat[i] = trainset.df1.iloc[i+9]['PM2.5']\n",
    "\n",
    "    trainset.X = X\n",
    "    trainset.y_hat = y_hat\n",
    "    #trainset.normalize()\n",
    "\n",
    "preprocess_training_data()#trainset.df.columns)"
   ]
  },
  {
   "cell_type": "code",
   "execution_count": 175,
   "metadata": {},
   "outputs": [
    {
     "data": {
      "text/plain": [
       "(array([ 764., 1930., 1824., 1486.,  926.,  706.,  443.,  328.,  147.,\n",
       "         104.,   48.,   14.,   15.,    9.,    8.,    3.,    4.,    0.,\n",
       "           0.,    3.]),\n",
       " array([  2.  ,   9.55,  17.1 ,  24.65,  32.2 ,  39.75,  47.3 ,  54.85,\n",
       "         62.4 ,  69.95,  77.5 ,  85.05,  92.6 , 100.15, 107.7 , 115.25,\n",
       "        122.8 , 130.35, 137.9 , 145.45, 153.  ]),\n",
       " <BarContainer object of 20 artists>)"
      ]
     },
     "execution_count": 175,
     "metadata": {},
     "output_type": "execute_result"
    },
    {
     "data": {
      "image/png": "[encoded data removed]",
      "text/plain": [
       "<Figure size 432x288 with 1 Axes>"
      ]
     },
     "metadata": {
      "needs_background": "light"
     },
     "output_type": "display_data"
    }
   ],
   "source": [
    "plt.hist(trainset.df['PM2.5'],bins=20)"
   ]
  },
  {
   "cell_type": "code",
   "execution_count": 205,
   "metadata": {
    "scrolled": true
   },
   "outputs": [],
   "source": [
    "def train(X, y_hat):\n",
    "    n, d = X.shape\n",
    "\n",
    "    linear_module = torch.nn.Linear(d, 1, bias=True)\n",
    "    loss_func = torch.nn.MSELoss()\n",
    "    optim = torch.optim.Adam(linear_module.parameters(), lr=1e-3, betas=(0.99, 0.999))\n",
    "    num_iter = 10000\n",
    "\n",
    "    print('iter,\\tloss,\\tw')\n",
    "\n",
    "    for i in range(num_iter):\n",
    "        y = linear_module(X)\n",
    "        loss = loss_func(y, y_hat) + 1e-5 * torch.norm(linear_module.weight)\n",
    "        optim.zero_grad()\n",
    "        loss.backward()\n",
    "        optim.step()\n",
    "\n",
    "        if i % 1000 == 0:\n",
    "            print('{},\\t{:.2f},\\t{}'.format(i, loss.item(), linear_module.weight.view(d).detach().numpy()))\n",
    "\n",
    "    true_w, residuals, rank, s  = np.linalg.lstsq(X.view((n, d)).numpy(), y_hat.view(n).numpy())\n",
    "            \n",
    "    print('\\ntrue w\\t\\t', true_w)\n",
    "    print('estimated w\\t', linear_module.weight.view(d).detach().numpy())\n",
    "    print('bias\\t', linear_module.bias.view(1).detach().numpy())\n",
    "    \n",
    "    testset.linear_module = linear_module\n",
    "\n",
    "#train(trainset.X, trainset.y_hat)"
   ]
  },
  {
   "cell_type": "code",
   "execution_count": 217,
   "metadata": {},
   "outputs": [
    {
     "name": "stdout",
     "output_type": "stream",
     "text": [
      "iter,\tloss,\tw\n",
      "0,\t24952.33,\t[ 0.14 -0.01 -0.11 -0.07 -0.1   0.13  0.04  0.05  0.03 -0.05  0.1   0.12 -0.15\n",
      "  0.02  0.13 -0.02  0.02  0.04  0.08  0.11 -0.17  0.12 -0.11 -0.16  0.05  0.08\n",
      " -0.06 -0.1   0.06  0.11  0.02  0.1  -0.16 -0.14  0.14 -0.07]\n",
      "1000,\t54.81,\t[ 0.18 -0.03 -0.14  0.02 -0.08  0.09  0.07  0.06  0.04 -0.01  0.    0.02 -0.02\n",
      "  0.01  0.01 -0.01  0.01  0.01  0.09  0.12 -0.13  0.15 -0.07 -0.1   0.09  0.11\n",
      " -0.01 -0.09  0.07  0.11  0.03  0.11 -0.15 -0.13  0.15 -0.06]\n",
      "2000,\t15.90,\t[ 0.21 -0.   -0.11  0.06 -0.05  0.12  0.11  0.1   0.09 -0.    0.    0.   -0.\n",
      "  0.   -0.   -0.    0.    0.01  0.09  0.12 -0.13  0.14 -0.06 -0.08  0.09  0.12\n",
      "  0.01 -0.09  0.07  0.11  0.03  0.11 -0.15 -0.13  0.15 -0.06]\n",
      "3000,\t13.68,\t[ 0.23  0.02 -0.08  0.09 -0.02  0.15  0.14  0.14  0.13 -0.    0.    0.   -0.\n",
      "  0.   -0.   -0.   -0.    0.01  0.07  0.09 -0.14  0.11 -0.07 -0.08  0.06  0.09\n",
      "  0.01 -0.09  0.07  0.11  0.02  0.11 -0.16 -0.14  0.14 -0.06]\n",
      "4000,\t12.97,\t[ 0.24  0.03 -0.07  0.1  -0.    0.17  0.16  0.17  0.18 -0.   -0.    0.   -0.\n",
      " -0.   -0.   -0.   -0.    0.01  0.04  0.07 -0.13  0.09 -0.06 -0.06  0.04  0.06\n",
      " -0.   -0.09  0.06  0.11  0.02  0.11 -0.16 -0.14  0.14 -0.06]\n",
      "5000,\t12.64,\t[ 0.22  0.02 -0.07  0.09 -0.    0.17  0.17  0.19  0.22 -0.    0.    0.   -0.\n",
      " -0.   -0.   -0.   -0.    0.01  0.03  0.05 -0.11  0.06 -0.04 -0.03  0.01  0.03\n",
      " -0.01 -0.09  0.06  0.11  0.02  0.11 -0.16 -0.14  0.14 -0.06]\n",
      "6000,\t12.37,\t[ 0.2   0.01 -0.07  0.08 -0.01  0.16  0.17  0.21  0.27 -0.    0.    0.   -0.\n",
      "  0.   -0.   -0.   -0.    0.    0.02  0.04 -0.07  0.03 -0.03 -0.   -0.01  0.02\n",
      " -0.   -0.1   0.06  0.11  0.02  0.11 -0.16 -0.14  0.14 -0.06]\n",
      "7000,\t12.13,\t[ 0.17 -0.01 -0.07  0.06 -0.01  0.15  0.16  0.23  0.34 -0.    0.    0.   -0.\n",
      "  0.   -0.   -0.   -0.    0.    0.02  0.03 -0.04 -0.01 -0.02  0.02 -0.02  0.01\n",
      "  0.01 -0.1   0.06  0.11  0.02  0.11 -0.16 -0.14  0.14 -0.05]\n",
      "8000,\t11.97,\t[ 0.14 -0.01 -0.05  0.04 -0.02  0.13  0.14  0.25  0.41 -0.    0.    0.   -0.\n",
      "  0.   -0.   -0.   -0.    0.    0.02  0.02 -0.01 -0.03 -0.02  0.03 -0.04  0.01\n",
      "  0.01 -0.1   0.06  0.11  0.02  0.11 -0.16 -0.14  0.14 -0.05]\n",
      "9000,\t11.87,\t[ 0.11 -0.01 -0.02  0.02 -0.02  0.11  0.11  0.24  0.49 -0.    0.    0.   -0.\n",
      "  0.   -0.   -0.   -0.    0.    0.02  0.01  0.   -0.04 -0.02  0.04 -0.04  0.02\n",
      "  0.01 -0.1   0.06  0.11  0.02  0.1  -0.16 -0.14  0.14 -0.04]\n"
     ]
    },
    {
     "name": "stderr",
     "output_type": "stream",
     "text": [
      "/home/soyccan/anaconda3/envs/ml-hw1/lib/python3.6/site-packages/ipykernel_launcher.py:21: FutureWarning: `rcond` parameter will change to the default of machine precision times ``max(M, N)`` where M and N are the input matrix dimensions.\n",
      "To use the future default and silence this warning we advise to pass `rcond=None`, to keep using the old, explicitly pass `rcond=-1`.\n"
     ]
    },
    {
     "name": "stdout",
     "output_type": "stream",
     "text": [
      "\n",
      "true w\t\t [ 0.05 -0.    0.07 -0.05  0.01  0.1   0.02  0.2   0.6  -0.    0.   -0.    0.\n",
      " -0.   -0.    0.   -0.    0.   -0.08 -0.06 -0.04 -0.06 -0.01  0.09  0.03  0.11\n",
      "  0.   -2.37 -1.69 -1.01 -0.34  0.34  1.01  1.69  2.37 -0.01]\n",
      "estimated w\t [ 0.08 -0.01  0.01 -0.   -0.02  0.1   0.07  0.23  0.55 -0.    0.    0.   -0.\n",
      "  0.   -0.   -0.   -0.    0.    0.02  0.01  0.01 -0.04 -0.02  0.04 -0.04  0.02\n",
      "  0.01 -0.1   0.06  0.1   0.02  0.1  -0.16 -0.14  0.14 -0.03]\n",
      "bias\t [0.03]\n",
      "validate loss 71.06912231445312\n",
      "\n"
     ]
    }
   ],
   "source": [
    "def validate():\n",
    "    X = trainset.X\n",
    "    y_hat = trainset.y_hat\n",
    "    n, d = X.shape\n",
    "\n",
    "    validate_sz = 2000\n",
    "    losses = []\n",
    "    loss_func = torch.nn.MSELoss()\n",
    "    for i in range(0, n, validate_sz):\n",
    "        idx_validate = pd.Series([False] * n)\n",
    "        idx_validate[i:i+validate_sz] = True\n",
    "\n",
    "        train(X[~idx_validate], y_hat[~idx_validate])\n",
    "        y = testset.linear_module(X[idx_validate])\n",
    "        l = loss_func(y, y_hat[idx_validate])\n",
    "        losses.append(l.item())\n",
    "        \n",
    "        break\n",
    "\n",
    "    print('validate loss', np.mean(losses))\n",
    "    print()\n",
    "\n",
    "validate()"
   ]
  },
  {
   "cell_type": "code",
   "execution_count": 218,
   "metadata": {},
   "outputs": [],
   "source": [
    "def preprocess_testing_data(sel_cols=['PM2.5']):\n",
    "    c = len(sel_cols)\n",
    "    d = c * 9 * 2 + 18\n",
    "    n = (len(testset.df) + 8) // 9\n",
    "    X = torch.zeros((n, d))\n",
    "\n",
    "    # extract feature\n",
    "    for i in range(n):\n",
    "        X[i, 0:c*9] = torch.tensor(testset.df.iloc[i*9:(i+1)*9][sel_cols].values.flatten())\n",
    "        X[i, c*9:c*9*2] = X[i, 0:c*9] ** 2\n",
    "        for j in range(9):\n",
    "            X[i, c*9*2+j] = (i*9+j) % 24 # hour\n",
    "        for j in range(9):\n",
    "            X[i, c*9*2+9+j] = ((i*9+j) // 24) % 365 # day\n",
    "    testset.X = X\n",
    "\n",
    "    #testset.normalize()\n",
    "\n",
    "preprocess_testing_data()#testset.df.columns)"
   ]
  },
  {
   "cell_type": "code",
   "execution_count": 219,
   "metadata": {},
   "outputs": [
    {
     "name": "stdout",
     "output_type": "stream",
     "text": [
      "[13. 17. 21. 34. 24. 42. 54. 64. 67. 57. 43. 37. 58. 50. 40. 46. 31. 30. 22.\n",
      " 32. 32. 34. 27. 21. 24. 15.  6.  9. 21. 21. 22. 18. 18. 18. 24. 27. 16. 20.\n",
      "  8.  6. 11. 22. 20. 25. 21. 28. 27. 34. 33. 30. 45. 32. 34. 38. 22. 26. 13.\n",
      " 13.  6.  3.  4.  2.  5.  7.  9.  6.  3.  8. 21. 22. 27. 30. 23. 23. 53. 26.\n",
      " 19. 15. 16. 16. 18. 14.  5. 10. 19. 16. 12.  8.  8.  9. 14. 12. 14. 20. 26.\n",
      " 26. 39. 34. 31. 25. 48. 33. 25. 10.  2. 29. 27. 18. 15.  6.  3. 10. 16. 14.\n",
      " 13. 18. 24. 23. 23. 16. 18. 23. 26. 30. 22. 28. 22. 23. 39. 52. 37. 12. 14.\n",
      "  9. 23. 18. 15. 18. 29. 19. 28. 30. 26. 11. 12. 16. 21. 24. 26. 13.  3.  6.\n",
      "  9. 20. 23. 25. 10. 16. 25. 21. 23. 19. 12. 10.  7. 13. 27. 32. 30. 27. 37.\n",
      " 18.  4. 15. 15. 20. 22. 20. 29. 27. 21. 28. 26. 38. 28. 26. 21. 27. 31. 34.\n",
      " 23. 24. 23. 17. 22. 24. 20. 26. 23. 25. 30. 24. 23. 22. 18. 13.  9.  5.  2.\n",
      " 16. 15. 17. 16. 17. 20. 25. 16. 17. 20. 25. 24. 28. 22. 15. 20. 20. 24. 15.\n",
      "  4. 21. 14. 17. 26. 25. 24. 20. 29. 39. 26. 28. 32. 20.  8. 14. 15. 28. 33.\n",
      " 26. 48. 42. 31. 27. 41. 27. 26. 30. 35. 24. 26. 18. 18. 23.  6. 29. 33. 22.\n",
      " 12. 15. 15. 22. 18. 24. 21. 39. 33. 34. 24. 24. 27. 37. 32. 29. 33. 34. 40.\n",
      " 37. 26. 37. 22. 20. 20. 16. 18.  9. 11. 14. 11. 13. 12.  8.  9.  9.  9. 13.\n",
      " 12.  8.  7.  9.  7.  6.  7.  4.  9. 20. 23. 14. 13. 25. 23. 23. 13. 17. 17.\n",
      " 18. 11.  5.  6.  6.  8.  9.  6.  5.  7.  9. 14. 12. 12.  7. 11. 10.  7. 12.\n",
      " 10. 11. 11. 10.  9. 10.  7.  4.  8.  6.  6. 11.  6. 15.  9.  9.  8.  4.  5.\n",
      "  6.  9.  3.  8.  5.  9.  9.  6.  5.  5.  9.  3. 10.  4.  5.  4.  3.  5.  6.\n",
      "  6.  4. 13.  7. 11. 14.  9.  5.  8. 12.  7.  5.  5.  5.  5.  7.  7.  9.  9.\n",
      "  9.  8. 13.  7. 11.  9.  7.  8.  9. 20.  6.  6.  5. 10.  9.  6. 15.  5.  6.\n",
      "  6.  5.  7.  7.  8.  7.  7. 10. 10. 12.  4.  9.  4.  6.  7.  7.  7.  9.  8.\n",
      "  9.  8.  8.  8.  8. 10. 14.  6. 11.  6.  6.  7.  5. 10.  5.  8.  4.  5.  8.\n",
      "  9.  9.  7. 12. 12. 10. 11.  8.  9.  3. 13.  6.  6. 10.  4.  3. 11.  9.  3.\n",
      "  3.  7.  6.  5.  6.  8. 10. 13. 12.  6.  9.  8.  4.  4.  4. 10.  5.  4.  8.\n",
      "  7.  9.  5.  6. 12. 11.]\n"
     ]
    }
   ],
   "source": [
    "def test():\n",
    "    X = testset.X\n",
    "    linear_module = testset.linear_module\n",
    "    n, d = X.shape\n",
    "    \n",
    "    y = linear_module(X)\n",
    "    y = torch.round(y).view(n).detach().numpy()\n",
    "    print(y)\n",
    "    testset.y = y\n",
    "\n",
    "test()"
   ]
  },
  {
   "cell_type": "code",
   "execution_count": 220,
   "metadata": {},
   "outputs": [],
   "source": [
    "pred_df = pd.DataFrame({\n",
    "    'id': ['id_' + str(i) for i in range(500)],\n",
    "    'value': testset.y\n",
    "})\n",
    "pred_df.to_csv('submission.csv', index=False)"
   ]
  },
  {
   "cell_type": "code",
   "execution_count": 139,
   "metadata": {
    "scrolled": true
   },
   "outputs": [
    {
     "data": {
      "text/plain": [
       "(array([ 13., 135., 114.,  96.,  83.,  36.,  12.,   6.,   3.,   2.]),\n",
       " array([-5. ,  2.7, 10.4, 18.1, 25.8, 33.5, 41.2, 48.9, 56.6, 64.3, 72. ],\n",
       "       dtype=float32),\n",
       " <BarContainer object of 10 artists>)"
      ]
     },
     "execution_count": 139,
     "metadata": {},
     "output_type": "execute_result"
    },
    {
     "data": {
      "image/png": "[encoded data removed]",
      "text/plain": [
       "<Figure size 432x288 with 1 Axes>"
      ]
     },
     "metadata": {
      "needs_background": "light"
     },
     "output_type": "display_data"
    }
   ],
   "source": [
    "plt.hist(testset.y)"
   ]
  },
  {
   "cell_type": "code",
   "execution_count": null,
   "metadata": {},
   "outputs": [],
   "source": []
  },
  {
   "cell_type": "code",
   "execution_count": null,
   "metadata": {},
   "outputs": [],
   "source": [
    "def closed_form_solution():\n",
    "    w_hat, residuals, rank, s  = np.linalg.lstsq(trainset.X_t, trainset.y_hat)\n",
    "    X = trainset.X\n",
    "    X_t = trainset.X_t\n",
    "    y_hat = trainset.y_hat\n",
    "    assert w_hat.shape[0] == DIM\n",
    "    print('w_hat',w_hat)\n",
    "    print('train loss', np.linalg.norm(trainset.X_t.dot(w_hat) - trainset.y_hat)**2)\n",
    "    testset.w = w_hat\n",
    "\n",
    "    loss = []\n",
    "    d, n = trainset.X.shape\n",
    "    validate_sz = 2000\n",
    "    for i in range(0, n, validate_sz):\n",
    "        idx_validate = pd.Series([False] * n)\n",
    "        idx_validate[i:i+validate_sz] = True\n",
    "        loss.append(validate(X[:, idx_validate], y_hat[idx_validate], testset.w))\n",
    "    print('validation loss', np.mean(loss))\n",
    "    \n",
    "    return np.dot(testset.X_t, w_hat).round(0).astype(int)\n",
    "\n",
    "# y_pred = closed_form_solution()"
   ]
  },
  {
   "cell_type": "code",
   "execution_count": null,
   "metadata": {},
   "outputs": [],
   "source": []
  },
  {
   "cell_type": "code",
   "execution_count": null,
   "metadata": {},
   "outputs": [],
   "source": []
  },
  {
   "cell_type": "code",
   "execution_count": null,
   "metadata": {},
   "outputs": [],
   "source": []
  }
 ],
 "metadata": {
  "kernelspec": {
   "display_name": "Python 3",
   "language": "python",
   "name": "python3"
  },
  "language_info": {
   "codemirror_mode": {
    "name": "ipython",
    "version": 3
   },
   "file_extension": ".py",
   "mimetype": "text/x-python",
   "name": "python",
   "nbconvert_exporter": "python",
   "pygments_lexer": "ipython3",
   "version": "3.6.9"
  }
 },
 "nbformat": 4,
 "nbformat_minor": 4
}

{
 "cells": [
  {
   "cell_type": "code",
   "execution_count": 198,
   "metadata": {},
   "outputs": [],
   "source": [
    "import pandas as pd\n",
    "import numpy as np\n",
    "import matplotlib.pyplot as plt\n",
    "import torch\n",
    "import torch.nn\n",
    "import torch.optim\n",
    "np.set_printoptions(threshold=1e3, suppress=True, precision=2, linewidth=80)"
   ]
  },
  {
   "cell_type": "code",
   "execution_count": 158,
   "metadata": {},
   "outputs": [],
   "source": [
    "class Dataset:\n",
    "    def __init__(self):\n",
    "        self.X = None\n",
    "        self.X_t = None\n",
    "        self.y_hat = None\n",
    "        self.df = None\n",
    "        self.w = None\n",
    "    def normalize(self):\n",
    "        mean_x = np.nanmean(self.X, axis=1)\n",
    "        std_x = np.nanstd(self.X, axis=1)\n",
    "        std_x[std_x == 0] = 1\n",
    "        self.X = (self.X - mean_x[:, np.newaxis]) / std_x[:, np.newaxis]\n",
    "        self.X_t = self.X.T\n",
    "\n",
    "trainset = Dataset()\n",
    "trainset.df = pd.read_csv('train_datas_0.csv', dtype='float', na_values='-')\n",
    "trainset.df1 = pd.read_csv('train_datas_1.csv').apply(pd.to_numeric, errors='coerce')\n",
    "\n",
    "testset = Dataset()\n",
    "testset.df = pd.read_csv('test_datas.csv', dtype='float', na_values='-')"
   ]
  },
  {
   "cell_type": "code",
   "execution_count": null,
   "metadata": {},
   "outputs": [],
   "source": []
  },
  {
   "cell_type": "code",
   "execution_count": 215,
   "metadata": {},
   "outputs": [],
   "source": [
    "def preprocess_training_data(sel_cols=['PM2.5']):\n",
    "    # correct dataframe\n",
    "    trainset.df1.drop(trainset.df1.index[-2+2162:-2+2208], inplace=True)\n",
    "    trainset.df1.dropna(how='all', inplace=True)\n",
    "    trainset.df1.drop(trainset.df1.index[(trainset.df1 == 0).all(axis=1)], inplace=True)\n",
    "    for s in (trainset.df, trainset.df1, testset.df):\n",
    "        for cnam in s.columns:\n",
    "            # fill NaN with mean\n",
    "            s[cnam].fillna(s[cnam].mean(), inplace=True)\n",
    "\n",
    "            # replace outlier with mean\n",
    "            # TODO: inplace?\n",
    "            s[cnam][abs(s[cnam] - s[cnam].mean()) > 10 * s[cnam].std()] = s[cnam].mean()\n",
    "\n",
    "        s.reindex()\n",
    "\n",
    "    # extract feature\n",
    "    c = len(sel_cols)\n",
    "    d = c * 9 * 2 + 18\n",
    "    n = len(trainset.df) - 9 + len(trainset.df1) - 9\n",
    "    X = torch.zeros((n, d))\n",
    "    y_hat = torch.zeros((n, 1))\n",
    "    \n",
    "    for i in range(len(trainset.df)-9):\n",
    "        X[i, 0:c*9] = torch.tensor(trainset.df.iloc[i:i+9][sel_cols].values.flatten())\n",
    "        X[i, c*9:c*9*2] = X[i, 0:c*9] ** 2\n",
    "        for j in range(9):\n",
    "            X[i, c*9*2+j] = (i+j) % 24 # hour\n",
    "        for j in range(9):\n",
    "            X[i, c*9*2+9+j] = ((i+j) // 24) % 365 # day\n",
    "        y_hat[i] = trainset.df.iloc[i+9]['PM2.5']\n",
    "    \n",
    "#     off = len(trainset.df) - 9\n",
    "#     for i in range(len(trainset.df1)-9):\n",
    "#         X[i+off, 0:15*9] = torch.tensor(trainset.df1.iloc[i:i+9].values.flatten())\n",
    "#         X[i+off, 15*9] = i % 24 # hour\n",
    "#         X[i+off, 15*9+1] = (i // 24) % 365 # day\n",
    "#         y_hat[i] = trainset.df1.iloc[i+9]['PM2.5']\n",
    "\n",
    "    trainset.X = X\n",
    "    trainset.y_hat = y_hat\n",
    "    #trainset.normalize()\n",
    "\n",
    "preprocess_training_data()#trainset.df.columns)"
   ]
  },
  {
   "cell_type": "code",
   "execution_count": 175,
   "metadata": {},
   "outputs": [
    {
     "data": {
      "text/plain": [
       "(array([ 764., 1930., 1824., 1486.,  926.,  706.,  443.,  328.,  147.,\n",
       "         104.,   48.,   14.,   15.,    9.,    8.,    3.,    4.,    0.,\n",
       "           0.,    3.]),\n",
       " array([  2.  ,   9.55,  17.1 ,  24.65,  32.2 ,  39.75,  47.3 ,  54.85,\n",
       "         62.4 ,  69.95,  77.5 ,  85.05,  92.6 , 100.15, 107.7 , 115.25,\n",
       "        122.8 , 130.35, 137.9 , 145.45, 153.  ]),\n",
       " <BarContainer object of 20 artists>)"
      ]
     },
     "execution_count": 175,
     "metadata": {},
     "output_type": "execute_result"
    },
    {
     "data": {
      "image/png": "[encoded data removed]",
      "text/plain": [
       "<Figure size 432x288 with 1 Axes>"
      ]
     },
     "metadata": {
      "needs_background": "light"
     },
     "output_type": "display_data"
    }
   ],
   "source": [
    "plt.hist(trainset.df['PM2.5'],bins=20)"
   ]
  },
  {
   "cell_type": "code",
   "execution_count": 205,
   "metadata": {
    "scrolled": true
   },
   "outputs": [],
   "source": [
    "def train(X, y_hat):\n",
    "    n, d = X.shape\n",
    "\n",
    "    linear_module = torch.nn.Linear(d, 1, bias=True)\n",
    "    loss_func = torch.nn.MSELoss()\n",
    "    optim = torch.optim.Adam(linear_module.parameters(), lr=1e-3, betas=(0.99, 0.999))\n",
    "    num_iter = 10000\n",
    "\n",
    "    print('iter,\\tloss,\\tw')\n",
    "\n",
    "    for i in range(num_iter):\n",
    "        y = linear_module(X)\n",
    "        loss = loss_func(y, y_hat) + 1e-5 * torch.norm(linear_module.weight)\n",
    "        optim.zero_grad()\n",
    "        loss.backward()\n",
    "        optim.step()\n",
    "\n",
    "        if i % 1000 == 0:\n",
    "            print('{},\\t{:.2f},\\t{}'.format(i, loss.item(), linear_module.weight.view(d).detach().numpy()))\n",
    "\n",
    "    true_w, residuals, rank, s  = np.linalg.lstsq(X.view((n, d)).numpy(), y_hat.view(n).numpy())\n",
    "            \n",
    "    print('\\ntrue w\\t\\t', true_w)\n",
    "    print('estimated w\\t', linear_module.weight.view(d).detach().numpy())\n",
    "    print('bias\\t', linear_module.bias.view(1).detach().numpy())\n",
    "    \n",
    "    testset.linear_module = linear_module\n",
    "\n",
    "#train(trainset.X, trainset.y_hat)"
   ]
  },
  {
   "cell_type": "code",
   "execution_count": 216,
   "metadata": {},
   "outputs": [],
   "source": [
    "def preprocess_testing_data(sel_cols=['PM2.5']):\n",
    "    c = len(sel_cols)\n",
    "    d = c * 9 * 2 + 18\n",
    "    n = (len(testset.df) + 8) // 9\n",
    "    X = torch.zeros((n, d))\n",
    "\n",
    "    # extract feature\n",
    "    for i in range(n):\n",
    "        X[i, 0:c*9] = torch.tensor(testset.df.iloc[i*9:(i+1)*9][sel_cols].values.flatten())\n",
    "        X[i, c*9:c*9*2] = X[i, 0:c*9] ** 2\n",
    "        for j in range(9):\n",
    "            X[i, c*9*2+j] = (i*9+j) % 24 # hour\n",
    "        for j in range(9):\n",
    "            X[i, c*9*2+9+j] = ((i*9+j) // 24) % 365 # day\n",
    "    testset.X = X\n",
    "\n",
    "    #testset.normalize()\n",
    "\n",
    "preprocess_testing_data()#testset.df.columns)"
   ]
  },
  {
   "cell_type": "code",
   "execution_count": 202,
   "metadata": {},
   "outputs": [
    {
     "name": "stdout",
     "output_type": "stream",
     "text": [
      "[ 19.  20.  22.  36.  28.  21.  49.  66.  69.  58.  47.  46.  62.  49.  42.\n",
      "  47.  35.  25.  28.  35.  39.  37.  31.  24.  28.  18.   9.  12.  22.  26.\n",
      "  28.  21.  22.  19.  27.  28.  30.  22.  11.   9.  16.  28.  25.  28.  23.\n",
      "  30.  39.  35.  36.  34.  48.  35.  38.  42.  24.  25.  19.  15.   9.   5.\n",
      "   6.   1.  10.  10.  13.   9.   8.  11.  24.  27.  28.  33.  27.  25.  56.\n",
      "  27.  25.  20.  19.  18.  21.  16.   8.  14.  21.  19.  15.   9.  11.  10.\n",
      "  17.  15.  17.  24.  27.  34.  41.  40.  34.  23.  54.  37.  27.  14.  -1.\n",
      "  30.  30.  24.  17.   7.   5.  15.  21.  16.  18.  22.  26.  28.  27.  26.\n",
      "  24.  28.  30.  30.  26.  31.  26.  27.  44.  50.  41.  15.  14.  11.  25.\n",
      "  18.  20.  23.  30.  22.  32.  31.  27.  12.  15.  18.  22.  28.  29.  12.\n",
      "   5.  11.  13.  24.  28.  29.  12.  20.  26.  27.  27.  23.  15.  12.   8.\n",
      "  20.  29.  36.  38.  33.  41.  18.   3.  16.  17.  25.  27.  22.  38.  30.\n",
      "  26.  31.  30.  41.  31.  33.  22.  29.  36.  36.  28.  28.  28.  20.  25.\n",
      "  27.  22.  31.  27.  29.  35.  26.  25.  24.  19.  13.  12.   7.   5.  19.\n",
      "  21.  22.  19.  20.  25.  23.  16.  17.  24.  27.  24.  31.  21.  18.  22.\n",
      "  22.  27.  16.  -1.  22.  18.  19.  30.  28.  27.  21.  31.  37.  37.  29.\n",
      "  37.  24.  11.  16.  22.  29.  35.  27.  49.  45.  35.  28.  42.  30.  30.\n",
      "  33.  36.  25.  25.  21.  18.  26.   5.  29.  31.  20.  14.  17.  16.  23.\n",
      "  18.  26.  26.  40.  39.  36.  24.  26.  30.  36.  33.  30.  35.  37.  40.\n",
      "  41.  33.  36.  22.  22.  24.  17.  18.  11.  11.  17.  12.  16.  14.   9.\n",
      "  11.  10.  10.  12.  14.  10.   7.  10.   5.   7.   7.   6.  22.  23.  24.\n",
      "  19.  16.  26.  23.  24.  16.  21.  20.  20.  11.   7.   6.   9.   9.  12.\n",
      "   6.   6.  10.   9.  11.  14.  19.   6.  11.  13.  10.  14.  16.  13.   8.\n",
      "  15.  16.  13.   3.   7.  13.  11.  -5.  18.  10.  16.   9.  12.   8.   6.\n",
      "   7.   8.   9.   4.   8.   7.   7.   8.   7.   5.   8.   9.   3.  10.   4.\n",
      "  -6.   6.   6. -10.   7.   6.   6.  15.   9.  14.  15.  12.   7.   9.  11.\n",
      "  10.   6.   3.   7.   6.   9.  17.  10.  12.  11.  10.  15.  10.  15.   8.\n",
      "  11.   9.   8.  21.   7.   7.   5.   9.   8.   7.  14.   4.   9.   6.   5.\n",
      "   8.   9.   8.   8.   8.  12.  11.  11.   5.  12.   2.   7.   9.  16.   8.\n",
      "   8.  10.  12.  10.   8.  12.   9.  10.  14.   8.  13.   6.   4.   7.   5.\n",
      "  11.   6.  14.   3.   7.   6.  -2.  10.   7.  13.  13.  12.  12.   8.   9.\n",
      "   2.  12.   6.   6.  10.   3.   3.   9.   7.   4.   4.   9.   3.   8.   8.\n",
      "  12.  11.  11.  17.   5.  13.  11.   8.   5.  15.  12.   9.   4.   9.   8.\n",
      "  13.   7.  10.  14.  13.]\n"
     ]
    }
   ],
   "source": [
    "def test():\n",
    "    X = testset.X\n",
    "    linear_module = testset.linear_module\n",
    "    n, d = X.shape\n",
    "    \n",
    "    y = linear_module(X)\n",
    "    y = torch.round(y).view(n).detach().numpy()\n",
    "    print(y)\n",
    "    testset.y = y\n",
    "\n",
    "test()"
   ]
  },
  {
   "cell_type": "code",
   "execution_count": 203,
   "metadata": {},
   "outputs": [],
   "source": [
    "pred_df = pd.DataFrame({\n",
    "    'id': ['id_' + str(i) for i in range(500)],\n",
    "    'value': testset.y\n",
    "})\n",
    "pred_df.to_csv('submission.csv', index=False)"
   ]
  },
  {
   "cell_type": "code",
   "execution_count": 139,
   "metadata": {
    "scrolled": true
   },
   "outputs": [
    {
     "data": {
      "text/plain": [
       "(array([ 13., 135., 114.,  96.,  83.,  36.,  12.,   6.,   3.,   2.]),\n",
       " array([-5. ,  2.7, 10.4, 18.1, 25.8, 33.5, 41.2, 48.9, 56.6, 64.3, 72. ],\n",
       "       dtype=float32),\n",
       " <BarContainer object of 10 artists>)"
      ]
     },
     "execution_count": 139,
     "metadata": {},
     "output_type": "execute_result"
    },
    {
     "data": {
      "image/png": "[encoded data removed]",
      "text/plain": [
       "<Figure size 432x288 with 1 Axes>"
      ]
     },
     "metadata": {
      "needs_background": "light"
     },
     "output_type": "display_data"
    }
   ],
   "source": [
    "plt.hist(testset.y)"
   ]
  },
  {
   "cell_type": "code",
   "execution_count": null,
   "metadata": {},
   "outputs": [
    {
     "name": "stdout",
     "output_type": "stream",
     "text": [
      "iter,\tloss,\tw\n",
      "0,\t24952.33,\t[ 0.14 -0.01 -0.11 -0.07 -0.1   0.13  0.04  0.05  0.03 -0.05  0.1   0.12 -0.15\n",
      "  0.02  0.13 -0.02  0.02  0.04  0.08  0.11 -0.17  0.12 -0.11 -0.16  0.05  0.08\n",
      " -0.06 -0.1   0.06  0.11  0.02  0.1  -0.16 -0.14  0.14 -0.07]\n"
     ]
    }
   ],
   "source": [
    "def validate():\n",
    "    X = trainset.X\n",
    "    y_hat = trainset.y_hat\n",
    "    n, d = X.shape\n",
    "\n",
    "    validate_sz = 2000\n",
    "    losses = []\n",
    "    loss_func = torch.nn.MSELoss()\n",
    "    for i in range(0, n, validate_sz):\n",
    "        idx_validate = pd.Series([False] * n)\n",
    "        idx_validate[i:i+validate_sz] = True\n",
    "\n",
    "        train(X[~idx_validate], y_hat[~idx_validate])\n",
    "        y = testset.linear_module(X[idx_validate])\n",
    "        l = loss_func(y, y_hat[idx_validate])\n",
    "        losses.append(l.item())\n",
    "        \n",
    "        break\n",
    "\n",
    "    print('validate loss', np.mean(losses))\n",
    "    print()\n",
    "\n",
    "validate()"
   ]
  },
  {
   "cell_type": "code",
   "execution_count": null,
   "metadata": {},
   "outputs": [],
   "source": []
  },
  {
   "cell_type": "code",
   "execution_count": null,
   "metadata": {},
   "outputs": [],
   "source": [
    "def closed_form_solution():\n",
    "    w_hat, residuals, rank, s  = np.linalg.lstsq(trainset.X_t, trainset.y_hat)\n",
    "    X = trainset.X\n",
    "    X_t = trainset.X_t\n",
    "    y_hat = trainset.y_hat\n",
    "    assert w_hat.shape[0] == DIM\n",
    "    print('w_hat',w_hat)\n",
    "    print('train loss', np.linalg.norm(trainset.X_t.dot(w_hat) - trainset.y_hat)**2)\n",
    "    testset.w = w_hat\n",
    "\n",
    "    loss = []\n",
    "    d, n = trainset.X.shape\n",
    "    validate_sz = 2000\n",
    "    for i in range(0, n, validate_sz):\n",
    "        idx_validate = pd.Series([False] * n)\n",
    "        idx_validate[i:i+validate_sz] = True\n",
    "        loss.append(validate(X[:, idx_validate], y_hat[idx_validate], testset.w))\n",
    "    print('validation loss', np.mean(loss))\n",
    "    \n",
    "    return np.dot(testset.X_t, w_hat).round(0).astype(int)\n",
    "\n",
    "# y_pred = closed_form_solution()"
   ]
  },
  {
   "cell_type": "code",
   "execution_count": null,
   "metadata": {},
   "outputs": [],
   "source": []
  },
  {
   "cell_type": "code",
   "execution_count": null,
   "metadata": {},
   "outputs": [],
   "source": []
  },
  {
   "cell_type": "code",
   "execution_count": null,
   "metadata": {},
   "outputs": [],
   "source": []
  }
 ],
 "metadata": {
  "kernelspec": {
   "display_name": "Python 3",
   "language": "python",
   "name": "python3"
  },
  "language_info": {
   "codemirror_mode": {
    "name": "ipython",
    "version": 3
   },
   "file_extension": ".py",
   "mimetype": "text/x-python",
   "name": "python",
   "nbconvert_exporter": "python",
   "pygments_lexer": "ipython3",
   "version": "3.6.9"
  }
 },
 "nbformat": 4,
 "nbformat_minor": 4
}

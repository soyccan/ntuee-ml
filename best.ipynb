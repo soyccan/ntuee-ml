{
 "cells": [
  {
   "cell_type": "code",
   "execution_count": 9,
   "metadata": {},
   "outputs": [],
   "source": [
    "import pandas as pd\n",
    "import numpy as np\n",
    "import matplotlib.pyplot as plt\n",
    "import torch\n",
    "from torch import nn\n",
    "np.set_printoptions(threshold=1e3, suppress=True, precision=2)"
   ]
  },
  {
   "cell_type": "code",
   "execution_count": 10,
   "metadata": {},
   "outputs": [],
   "source": [
    "class Dataset:\n",
    "    def __init__(self):\n",
    "        self.X = None\n",
    "        self.X_t = None\n",
    "        self.y_hat = None\n",
    "        self.df = None\n",
    "        self.w = None\n",
    "    def normalize(self):\n",
    "        mean_x = np.nanmean(self.X, axis=1)\n",
    "        std_x = np.nanstd(self.X, axis=1)\n",
    "        std_x[std_x == 0] = 1\n",
    "        self.X = (self.X - mean_x[:, np.newaxis]) / std_x[:, np.newaxis]\n",
    "        self.X_t = self.X.T\n",
    "\n",
    "trainset = Dataset()\n",
    "trainset.df = pd.read_csv('train_datas_0.csv', dtype='float', na_values='-')\n",
    "trainset.df1 = pd.read_csv('train_datas_1.csv').apply(pd.to_numeric, errors='coerce')\n",
    "\n",
    "testset = Dataset()\n",
    "testset.df = pd.read_csv('test_datas.csv', dtype='float', na_values='-')"
   ]
  },
  {
   "cell_type": "code",
   "execution_count": null,
   "metadata": {},
   "outputs": [],
   "source": []
  },
  {
   "cell_type": "code",
   "execution_count": 93,
   "metadata": {},
   "outputs": [],
   "source": [
    "def preprocess_training_data(sel_cols=['PM2.5']):\n",
    "    # correct dataframe\n",
    "    trainset.df1.drop(trainset.df1.index[-2+2162:-2+2208], inplace=True)\n",
    "    trainset.df1.dropna(how='all', inplace=True)\n",
    "    trainset.df1.drop(trainset.df1.index[(trainset.df1 == 0).all(axis=1)], inplace=True)\n",
    "    for s in (trainset.df, trainset.df1, testset.df):\n",
    "        for cnam in s.columns:\n",
    "            # fill NaN with mean\n",
    "            s[cnam].fillna(s[cnam].mean(), inplace=True)\n",
    "\n",
    "            # replace outlier with mean\n",
    "            # TODO: inplace?\n",
    "            s[cnam][abs(s[cnam] - s[cnam].mean()) > 10 * s[cnam].std()] = s[cnam].mean()\n",
    "\n",
    "        s.reindex()\n",
    "\n",
    "    # extract feature\n",
    "    c = len(sel_cols)\n",
    "    d = c * 9 * 2 + 18\n",
    "    n = len(trainset.df) - 9 + len(trainset.df1) - 9\n",
    "    X = torch.zeros((n, d))\n",
    "    y_hat = torch.zeros((n, 1))\n",
    "    \n",
    "    for i in range(len(trainset.df)-9):\n",
    "        X[i, 0:c*9] = torch.tensor(trainset.df.iloc[i:i+9][sel_cols].values.flatten())\n",
    "        #X[i, c*9:c*9*2] = X[i, 0:c*9] ** 2\n",
    "        for j in range(9):\n",
    "            X[i, c*9*2+j] = (i+j) % 24 # hour\n",
    "        for j in range(9):\n",
    "            X[i, c*9*2+9+j] = ((i+j) // 24) % 365 # day\n",
    "        y_hat[i] = trainset.df.iloc[i+9]['PM2.5']\n",
    "    \n",
    "#     off = len(trainset.df) - 9\n",
    "#     for i in range(len(trainset.df1)-9):\n",
    "#         X[i+off, 0:15*9] = torch.tensor(trainset.df1.iloc[i:i+9].values.flatten())\n",
    "#         X[i+off, 15*9] = i % 24 # hour\n",
    "#         X[i+off, 15*9+1] = (i // 24) % 365 # day\n",
    "#         y_hat[i] = trainset.df1.iloc[i+9]['PM2.5']\n",
    "\n",
    "    trainset.X = X\n",
    "    trainset.y_hat = y_hat\n",
    "    #trainset.normalize()\n",
    "\n",
    "preprocess_training_data()"
   ]
  },
  {
   "cell_type": "code",
   "execution_count": 94,
   "metadata": {},
   "outputs": [
    {
     "data": {
      "text/plain": [
       "(array([ 764., 1930., 1824., 1486.,  926.,  706.,  443.,  328.,  147.,\n",
       "         104.,   48.,   14.,   15.,    9.,    8.,    3.,    4.,    0.,\n",
       "           0.,    3.]),\n",
       " array([  2.  ,   9.55,  17.1 ,  24.65,  32.2 ,  39.75,  47.3 ,  54.85,\n",
       "         62.4 ,  69.95,  77.5 ,  85.05,  92.6 , 100.15, 107.7 , 115.25,\n",
       "        122.8 , 130.35, 137.9 , 145.45, 153.  ]),\n",
       " <BarContainer object of 20 artists>)"
      ]
     },
     "execution_count": 94,
     "metadata": {},
     "output_type": "execute_result"
    },
    {
     "data": {
      "image/png": "[encoded data removed]",
      "text/plain": [
       "<Figure size 432x288 with 1 Axes>"
      ]
     },
     "metadata": {
      "needs_background": "light"
     },
     "output_type": "display_data"
    }
   ],
   "source": [
    "plt.hist(trainset.df['PM2.5'],bins=20)"
   ]
  },
  {
   "cell_type": "code",
   "execution_count": 103,
   "metadata": {},
   "outputs": [
    {
     "name": "stdout",
     "output_type": "stream",
     "text": [
      "iter,\tloss,\tw\n",
      "1999,\t18.95,\t[ 0.    0.03  0.05 -0.02  0.02  0.    0.01  0.15  0.72 -0.08  0.15  0.09\n",
      " -0.16 -0.15 -0.14  0.04 -0.1  -0.    0.07  0.01 -0.02 -0.02 -0.02  0.02\n",
      " -0.03  0.03  0.04 -0.05  0.07 -0.09  0.07  0.03  0.05 -0.12  0.09 -0.06]\n",
      "\n",
      "true w\t\t\n",
      "estimated w\t [ 0.    0.03  0.05 -0.02  0.02  0.    0.01  0.15  0.72 -0.08  0.15  0.09\n",
      " -0.16 -0.15 -0.14  0.04 -0.1  -0.    0.07  0.01 -0.02 -0.02 -0.02  0.02\n",
      " -0.03  0.03  0.04 -0.05  0.07 -0.09  0.07  0.03  0.05 -0.12  0.09 -0.06]\n",
      "bias\t [0.08]\n"
     ]
    }
   ],
   "source": [
    "def train(X, y_hat):\n",
    "    n, d = X.shape\n",
    "\n",
    "    linear_module = nn.Linear(d, 1, bias=True)\n",
    "    loss_func = nn.MSELoss()\n",
    "    optim = torch.optim.Adam(linear_module.parameters(), lr=1e-1, betas=(0.99, 0.999))\n",
    "    num_iter = 2000\n",
    "\n",
    "    print('iter,\\tloss,\\tw')\n",
    "\n",
    "    for i in range(num_iter):\n",
    "        y = linear_module(X)\n",
    "        loss = loss_func(y, y_hat)\n",
    "        optim.zero_grad()\n",
    "        loss.backward()\n",
    "        optim.step()\n",
    "\n",
    "        if i == num_iter - 1:\n",
    "            print('{},\\t{:.2f},\\t{}'.format(i, loss.item(), linear_module.weight.view(d).detach().numpy()))\n",
    "\n",
    "    print('\\ntrue w\\t\\t', )#true_w.view(2).numpy())\n",
    "    print('estimated w\\t', linear_module.weight.view(d).detach().numpy())\n",
    "    print('bias\\t', linear_module.bias.view(1).detach().numpy())\n",
    "    \n",
    "    testset.linear_module = linear_module\n",
    "\n",
    "train(trainset.X, trainset.y_hat)"
   ]
  },
  {
   "cell_type": "code",
   "execution_count": 96,
   "metadata": {},
   "outputs": [],
   "source": [
    "def validate():\n",
    "    X = trainset.X\n",
    "    y_hat = trainset.y_hat\n",
    "    n, d = X.shape\n",
    "\n",
    "    validate_sz = 2000\n",
    "    losses = []\n",
    "    loss_func = nn.MSELoss()\n",
    "    for i in range(0, n, validate_sz):\n",
    "        idx_validate = pd.Series([False] * n)\n",
    "        idx_validate[i:i+validate_sz] = True\n",
    "\n",
    "        train(X[~idx_validate], y_hat[~idx_validate])\n",
    "        y = testset.linear_module(X[idx_validate])\n",
    "        l = loss_func(y, y_hat[idx_validate])\n",
    "        losses.append(l)\n",
    "\n",
    "    print('validate loss', np.mean(losses))\n",
    "    print()\n",
    "\n",
    "#validate()"
   ]
  },
  {
   "cell_type": "code",
   "execution_count": 97,
   "metadata": {},
   "outputs": [],
   "source": [
    "def preprocess_testing_data(sel_cols=['PM2.5']):\n",
    "    c = len(sel_cols)\n",
    "    d = c * 9 * 2 + 18\n",
    "    n = (len(testset.df) + 8) // 9\n",
    "    X = torch.zeros((n, d))\n",
    "\n",
    "    # extract feature\n",
    "    for i in range(n):\n",
    "        X[i, 0:c*9] = torch.tensor(testset.df.iloc[i*9:(i+1)*9][sel_cols].values.flatten())\n",
    "        #X[i, c*9:c*9*2] = X[i, 0:c*9] ** 2\n",
    "        for j in range(9):\n",
    "            X[i, c*9*2+j] = (i*9+j) % 24 # hour\n",
    "        for j in range(9):\n",
    "            X[i, c*9*2+9+j] = ((i*9+j) // 24) % 365 # day\n",
    "    testset.X = X\n",
    "\n",
    "    #testset.normalize()\n",
    "\n",
    "preprocess_testing_data()"
   ]
  },
  {
   "cell_type": "code",
   "execution_count": 98,
   "metadata": {},
   "outputs": [
    {
     "name": "stdout",
     "output_type": "stream",
     "text": [
      "[13. 18. 20. 36. 25. 42. 55. 66. 68. 57. 43. 36. 58. 49. 40. 47. 32. 30.\n",
      " 21. 32. 32. 34. 27. 21. 24. 15.  7.  9. 22. 20. 22. 19. 16. 17. 23. 27.\n",
      " 17. 21.  9.  7. 10. 23. 19. 24. 21. 28. 29. 34. 33. 29. 47. 31. 37. 39.\n",
      " 22. 27. 11. 14.  6.  4.  5.  2.  5.  9.  9.  7.  3.  8. 21. 21. 26. 31.\n",
      " 23. 23. 53. 24. 19. 14. 17. 17. 19. 14.  5. 12. 21. 21. 12.  9.  8. 11.\n",
      " 13. 12. 14. 20. 26. 26. 39. 34. 30. 24. 49. 33. 24. 11.  1. 29. 27. 17.\n",
      " 16.  7.  3. 11. 15. 16. 13. 19. 23. 23. 23. 16. 17. 24. 24. 30. 23. 28.\n",
      " 22. 24. 39. 52. 37. 11. 14. 10. 24. 19. 16. 19. 29. 19. 28. 30. 26. 11.\n",
      " 11. 15. 21. 24. 27. 16.  3.  7.  8. 22. 22. 25. 10. 15. 25. 22. 23. 19.\n",
      " 12. 10.  8. 14. 27. 32. 29. 27. 37. 18.  4. 15. 15. 20. 22. 19. 28. 27.\n",
      " 22. 28. 25. 39. 28. 26. 20. 26. 32. 35. 23. 25. 22. 17. 21. 24. 21. 26.\n",
      " 23. 25. 31. 25. 22. 22. 18. 13. 10.  5.  3. 17. 15. 16. 15. 18. 19. 25.\n",
      " 15. 17. 19. 25. 24. 28. 22. 16. 19. 21. 24. 15.  3. 20. 14. 18. 26. 23.\n",
      " 23. 19. 29. 38. 25. 29. 32. 17.  8. 14. 16. 27. 32. 26. 47. 43. 30. 26.\n",
      " 41. 27. 25. 32. 34. 25. 26. 16. 18. 24.  3. 30. 32. 22. 11. 14. 15. 22.\n",
      " 18. 25. 21. 39. 33. 33. 24. 23. 26. 38. 31. 29. 33. 34. 40. 37. 27. 37.\n",
      " 21. 20. 19. 16. 19.  9. 11. 16. 10. 14. 13.  8.  9.  8.  9. 14. 11.  9.\n",
      "  6.  9.  7.  6.  8.  4. 12. 20. 21. 15. 13. 25. 22. 24. 12. 18. 16. 19.\n",
      " 11.  5.  7.  6.  7. 10.  6.  5.  8.  9. 14. 13. 13.  7.  9. 10.  7. 13.\n",
      " 11. 12. 11. 10.  9. 10.  7.  4.  9.  8.  6. 12.  5. 17. 10.  9.  9.  5.\n",
      "  6.  7.  8.  3.  9.  5. 10. 10.  5.  5.  4.  9.  4. 11.  5.  7.  4.  3.\n",
      "  5.  6.  6.  4. 14.  7. 11. 15.  8.  5.  8. 12.  8.  6.  5.  5.  4.  7.\n",
      "  8.  9. 11.  9.  8. 12.  7. 12.  9.  7.  8. 10. 19.  8.  5.  5. 11.  9.\n",
      "  6. 17.  5.  6.  5.  6.  8.  8.  8. 10.  8. 10. 10. 12.  5.  9.  4.  6.\n",
      "  8.  6.  7.  9.  9. 10.  8.  8.  7.  8. 10. 14.  8. 11.  6.  7.  8.  7.\n",
      " 10.  5. 10.  4.  6.  9. 10. 10.  7. 11. 12. 10. 10.  9. 10.  3. 14.  6.\n",
      "  7. 10.  4.  5. 10.  9.  3.  3.  7.  5.  5.  6.  9. 11. 14. 11.  8. 10.\n",
      "  9.  5.  4.  5. 10.  4.  5.  8.  7. 10.  5.  7. 12. 11.]\n"
     ]
    }
   ],
   "source": [
    "def test():\n",
    "    X = testset.X\n",
    "    linear_module = testset.linear_module\n",
    "    n, d = X.shape\n",
    "    \n",
    "    y = linear_module(X)\n",
    "    y = torch.round(y).view(n).detach().numpy()\n",
    "    print(y)\n",
    "    testset.y = y\n",
    "\n",
    "test()"
   ]
  },
  {
   "cell_type": "code",
   "execution_count": 99,
   "metadata": {},
   "outputs": [
    {
     "data": {
      "text/plain": [
       "(array([101., 152.,  87.,  83.,  44.,  18.,   6.,   4.,   3.,   2.]),\n",
       " array([ 1. ,  7.7, 14.4, 21.1, 27.8, 34.5, 41.2, 47.9, 54.6, 61.3, 68. ],\n",
       "       dtype=float32),\n",
       " <BarContainer object of 10 artists>)"
      ]
     },
     "execution_count": 99,
     "metadata": {},
     "output_type": "execute_result"
    },
    {
     "data": {
      "image/png": "[encoded data removed]",
      "text/plain": [
       "<Figure size 432x288 with 1 Axes>"
      ]
     },
     "metadata": {
      "needs_background": "light"
     },
     "output_type": "display_data"
    }
   ],
   "source": [
    "plt.hist(testset.y)"
   ]
  },
  {
   "cell_type": "code",
   "execution_count": 100,
   "metadata": {},
   "outputs": [],
   "source": [
    "pred_df = pd.DataFrame({\n",
    "    'id': ['id_' + str(i) for i in range(500)],\n",
    "    'value': testset.y\n",
    "})\n",
    "pred_df.to_csv('submission.csv', index=False)"
   ]
  },
  {
   "cell_type": "code",
   "execution_count": 40,
   "metadata": {},
   "outputs": [],
   "source": [
    "def closed_form_solution():\n",
    "    w_hat, residuals, rank, s  = np.linalg.lstsq(trainset.X_t, trainset.y_hat)\n",
    "    X = trainset.X\n",
    "    X_t = trainset.X_t\n",
    "    y_hat = trainset.y_hat\n",
    "    assert w_hat.shape[0] == DIM\n",
    "    print('w_hat',w_hat)\n",
    "    print('train loss', np.linalg.norm(trainset.X_t.dot(w_hat) - trainset.y_hat)**2)\n",
    "    testset.w = w_hat\n",
    "\n",
    "    loss = []\n",
    "    d, n = trainset.X.shape\n",
    "    validate_sz = 2000\n",
    "    for i in range(0, n, validate_sz):\n",
    "        idx_validate = pd.Series([False] * n)\n",
    "        idx_validate[i:i+validate_sz] = True\n",
    "        loss.append(validate(X[:, idx_validate], y_hat[idx_validate], testset.w))\n",
    "    print('validation loss', np.mean(loss))\n",
    "    \n",
    "    return np.dot(testset.X_t, w_hat).round(0).astype(int)\n",
    "\n",
    "# y_pred = closed_form_solution()"
   ]
  },
  {
   "cell_type": "code",
   "execution_count": null,
   "metadata": {},
   "outputs": [],
   "source": []
  },
  {
   "cell_type": "code",
   "execution_count": null,
   "metadata": {},
   "outputs": [],
   "source": []
  },
  {
   "cell_type": "code",
   "execution_count": null,
   "metadata": {},
   "outputs": [],
   "source": []
  }
 ],
 "metadata": {
  "kernelspec": {
   "display_name": "Python 3",
   "language": "python",
   "name": "python3"
  },
  "language_info": {
   "codemirror_mode": {
    "name": "ipython",
    "version": 3
   },
   "file_extension": ".py",
   "mimetype": "text/x-python",
   "name": "python",
   "nbconvert_exporter": "python",
   "pygments_lexer": "ipython3",
   "version": "3.6.9"
  }
 },
 "nbformat": 4,
 "nbformat_minor": 4
}

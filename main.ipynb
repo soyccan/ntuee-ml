{
 "cells": [
  {
   "cell_type": "code",
   "execution_count": 1,
   "metadata": {},
   "outputs": [],
   "source": [
    "import pandas as pd\n",
    "import numpy as np\n",
    "import matplotlib.pyplot as plt"
   ]
  },
  {
   "cell_type": "code",
   "execution_count": 78,
   "metadata": {},
   "outputs": [],
   "source": [
    "class Dataset:\n",
    "    def __init__(self):\n",
    "        self.X = None\n",
    "        self.X_t = None\n",
    "        self.y_hat = None\n",
    "        self.df = None\n",
    "        self.w = None\n",
    "    def normalize(self):\n",
    "        mean_x = np.nanmean(X, axis=1)\n",
    "        std_x = np.nanstd(X, axis=1)\n",
    "        std_x[std_x == 0] = 1\n",
    "        self.X = (self.X - mean_x[:, np.newaxis]) / std_x[:, np.newaxis]"
   ]
  },
  {
   "cell_type": "code",
   "execution_count": 79,
   "metadata": {},
   "outputs": [],
   "source": [
    "trainset = Dataset()\n",
    "testset = Dataset()"
   ]
  },
  {
   "cell_type": "code",
   "execution_count": 80,
   "metadata": {},
   "outputs": [],
   "source": [
    "trainset.df = pd.read_csv('train_datas_0.csv', dtype='float', na_values='-')\n",
    "trainset.df1 = pd.read_csv('train_datas_1.csv').apply(pd.to_numeric, errors='coerce')\n",
    "testset.df = pd.read_csv('test_datas.csv', dtype='float', na_values='-')"
   ]
  },
  {
   "cell_type": "code",
   "execution_count": 401,
   "metadata": {},
   "outputs": [],
   "source": [
    "DIM = 15*9 + 3 # with 2nd-order term, hour, day and bias"
   ]
  },
  {
   "cell_type": "code",
   "execution_count": 402,
   "metadata": {},
   "outputs": [],
   "source": [
    "def fill_nan_with_mean():\n",
    "    trainset.df1.dropna(how='all')\n",
    "    for s in (trainset.df, trainset.df1, testset.df):\n",
    "        s[s.columns] = s[s.columns].fillna(s[s.columns].mean())\n",
    "fill_nan_with_mean()"
   ]
  },
  {
   "cell_type": "code",
   "execution_count": 403,
   "metadata": {},
   "outputs": [],
   "source": [
    "def preprocess_training_data():\n",
    "    d = DIM\n",
    "    n = len(trainset.df) - 9 #+ len(trainset.df1) - 9\n",
    "    X = np.zeros((d, n))\n",
    "    y_hat = np.zeros(n)\n",
    "\n",
    "    # extract feature\n",
    "    hr = 0\n",
    "    day = 0\n",
    "    for i in range(len(trainset.df)-9):\n",
    "        X[0:15*9, i] = trainset.df.iloc[i:i+9].to_numpy().flatten()\n",
    "        #X[15*9:15*9*2, i] = X[0:15*9, i] ** 2\n",
    "        X[15*9, i] = hr\n",
    "        X[15*9+1, i] = day\n",
    "        X[15*9+2, i] = 1 # bias\n",
    "        hr = (hr + 1) % 24\n",
    "        day = (day+1) % 365\n",
    "        y_hat[i] = trainset.df.iloc[i+9]['PM2.5']\n",
    "#    hr = 0\n",
    "#     off = len(trainset.df)-9\n",
    "#     for i in range(len(trainset.df1)-9):\n",
    "#         X[0:15*9, off+i] = trainset.df1.iloc[i:i+9].to_numpy().flatten()\n",
    "#         X[15*9:15*9*2, off+i] = X[0:15*9, off+i] ** 2\n",
    "#         X[15*9*2, off+i] = hr\n",
    "#         hr = (hr + 1) % 24\n",
    "#         y_hat[i] = trainset.df1.iloc[i+9]['PM2.5']\n",
    "\n",
    "    trainset.X = X\n",
    "    trainset.X_t = X.T\n",
    "    trainset.y_hat = y_hat\n",
    "    #trainset.normalize()\n",
    "\n",
    "preprocess_training_data()"
   ]
  },
  {
   "cell_type": "code",
   "execution_count": 404,
   "metadata": {},
   "outputs": [],
   "source": [
    "#np.savetxt('a', trainset.X, fmt='%.2f', delimiter=',')"
   ]
  },
  {
   "cell_type": "code",
   "execution_count": 409,
   "metadata": {},
   "outputs": [],
   "source": [
    "def train(X, y_hat, lr, reg, num_iter):\n",
    "    # training\n",
    "    X_t = X.T\n",
    "    d, n = X.shape\n",
    "    w = np.zeros(d)\n",
    "    sum_grad_sq = 0 # adagrad\n",
    "    loss = np.zeros(num_iter)\n",
    "    for i in range(num_iter):\n",
    "        # L(w) = || X^T - y^ ||^2 + reg * ||w||^2\n",
    "        # ∇L(w) = 2 * X * (X^T * w - y^) + 2 * reg * w\n",
    "        y = np.dot(X_t, w)\n",
    "        loss[i] = np.inner(y - y_hat, y - y_hat) + reg * np.linalg.norm(w, 1)\n",
    "        grad = np.dot(X, y - y_hat) + reg * w\n",
    "        sum_grad_sq += np.inner(grad, grad)\n",
    "        w = w - lr / np.sqrt(sum_grad_sq) * grad\n",
    "        if i == num_iter-1:\n",
    "            print('i',i)\n",
    "            #print('std_x',std_x)\n",
    "            #print('rr',rr)\n",
    "            #print('Xt',X_t)\n",
    "            print('y', y)\n",
    "            print('y_hat', y_hat)\n",
    "            #print('grad', grad)\n",
    "            print('w', w)\n",
    "            print('loss', loss[i])\n",
    "            print()\n",
    "    plt.plot(loss)\n",
    "    return w"
   ]
  },
  {
   "cell_type": "code",
   "execution_count": 410,
   "metadata": {},
   "outputs": [],
   "source": [
    "def validate(X, y_hat, w):\n",
    "    # validate\n",
    "    X_t = X.T\n",
    "    y = np.dot(X_t, w)\n",
    "    return np.inner(y - y_hat, y - y_hat)"
   ]
  },
  {
   "cell_type": "code",
   "execution_count": 428,
   "metadata": {},
   "outputs": [
    {
     "name": "stdout",
     "output_type": "stream",
     "text": [
      "lr 0.1 reg 0\n",
      "i 9999\n",
      "y [30.2  27.14 31.33 ... 14.34 13.12 18.9 ]\n",
      "y_hat [26. 27. 24. ... 12. 17. 19.]\n",
      "w [ 0.01 -0.    0.    0.   -0.    0.01 -0.    0.   -0.   -0.02  0.04  0.\n",
      "  0.   -0.   -0.    0.01 -0.    0.    0.01 -0.    0.   -0.    0.   -0.\n",
      " -0.02  0.04 -0.    0.   -0.    0.    0.01 -0.02 -0.01  0.01  0.    0.01\n",
      " -0.    0.   -0.   -0.01  0.06  0.    0.   -0.   -0.01  0.01 -0.   -0.\n",
      "  0.    0.   -0.01  0.    0.   -0.   -0.02  0.04  0.   -0.   -0.   -0.\n",
      "  0.01 -0.01 -0.01  0.    0.   -0.02  0.    0.   -0.   -0.03  0.05  0.\n",
      "  0.   -0.   -0.01  0.01 -0.01 -0.01  0.   -0.   -0.02  0.    0.   -0.\n",
      " -0.03  0.07  0.    0.   -0.   -0.02  0.01 -0.01 -0.02 -0.   -0.   -0.02\n",
      "  0.    0.   -0.   -0.04  0.09 -0.    0.   -0.01 -0.01  0.   -0.03 -0.03\n",
      " -0.   -0.    0.01  0.    0.   -0.   -0.01  0.16 -0.   -0.   -0.01  0.\n",
      "  0.01 -0.01  0.06  0.07  0.    0.04  0.01  0.    0.    0.22  0.35 -0.\n",
      " -0.   -0.01  0.05  0.02  0.    0.  ]\n",
      "loss 244646.89380003154\n",
      "\n",
      "validate loss 64441.11305741157\n",
      "\n",
      "lr 0.05 reg 0\n",
      "i 9999\n",
      "y [30.23 27.24 31.25 ... 14.23 13.13 18.85]\n",
      "y_hat [26. 27. 24. ... 12. 17. 19.]\n",
      "w [ 0.01 -0.   -0.    0.   -0.    0.01 -0.    0.   -0.   -0.02  0.04  0.\n",
      "  0.   -0.   -0.    0.01 -0.    0.    0.01  0.    0.01 -0.    0.   -0.\n",
      " -0.02  0.05 -0.    0.   -0.   -0.    0.01 -0.01 -0.01  0.01  0.    0.01\n",
      " -0.    0.   -0.   -0.01  0.06  0.    0.   -0.   -0.01  0.01 -0.   -0.\n",
      "  0.    0.   -0.01  0.    0.   -0.   -0.03  0.05  0.   -0.   -0.   -0.\n",
      "  0.01 -0.01 -0.    0.    0.   -0.02  0.    0.   -0.   -0.03  0.06  0.\n",
      "  0.   -0.   -0.01  0.01 -0.01 -0.01  0.   -0.   -0.02  0.    0.   -0.\n",
      " -0.03  0.07  0.    0.   -0.   -0.02  0.01 -0.02 -0.02 -0.   -0.   -0.02\n",
      "  0.    0.   -0.   -0.04  0.09 -0.    0.   -0.01 -0.01  0.   -0.03 -0.03\n",
      " -0.   -0.    0.01  0.    0.   -0.   -0.    0.16 -0.   -0.   -0.01  0.\n",
      "  0.01 -0.    0.06  0.07  0.    0.04  0.    0.    0.    0.21  0.33 -0.\n",
      " -0.   -0.01  0.04  0.02  0.    0.  ]\n",
      "loss 246300.22829127283\n",
      "\n",
      "validate loss 64920.291011051355\n",
      "\n"
     ]
    },
    {
     "data": {
      "image/png": "[encoded data removed]",
      "text/plain": [
       "<Figure size 432x288 with 1 Axes>"
      ]
     },
     "metadata": {
      "needs_background": "light"
     },
     "output_type": "display_data"
    }
   ],
   "source": [
    "def run():\n",
    "    X = trainset.X\n",
    "    y_hat = trainset.y_hat\n",
    "    d, n = X.shape\n",
    "    idx_validate = pd.Series([False] * n)\n",
    "    idx_validate[0:1000] = True\n",
    "    \n",
    "    lr = 1e-1 # learning rate\n",
    "    reg = 1e-3 # regularization term, lasso or ridge\n",
    "    \n",
    "    for lr in (0.1, 0.05):\n",
    "        for reg in (0,):\n",
    "            print('lr',lr,'reg',reg)\n",
    "            testset.w = train(X[:, ~idx_validate], y_hat[~idx_validate], lr, reg, 10000)\n",
    "            loss = validate(X[:, idx_validate], y_hat[idx_validate], testset.w)\n",
    "            print('validate loss', loss)\n",
    "            print()\n",
    "run()"
   ]
  },
  {
   "cell_type": "code",
   "execution_count": 388,
   "metadata": {},
   "outputs": [
    {
     "data": {
      "text/plain": [
       "array([[10.7 ],\n",
       "       [15.15],\n",
       "       [ 2.56],\n",
       "       ...,\n",
       "       [ 4.5 ],\n",
       "       [-1.53],\n",
       "       [ 2.35]])"
      ]
     },
     "execution_count": 388,
     "metadata": {},
     "output_type": "execute_result"
    }
   ],
   "source": [
    "np.set_printoptions(threshold=1e3, suppress=True, precision=2)\n",
    "d,n=trainset.X.shape\n",
    "#np.concatenate((trainset.X.T.dot(testset.w), trainset.y_hat)).reshape((n,2))\n",
    "np.vstack(trainset.X.T.dot(testset.w) - trainset.y_hat)"
   ]
  },
  {
   "cell_type": "code",
   "execution_count": 429,
   "metadata": {},
   "outputs": [],
   "source": [
    "def preprocess_testing_data():\n",
    "    d = DIM\n",
    "    n = (len(testset.df) + 8) // 9\n",
    "    X = np.zeros((d, n))\n",
    "    X[d-1, :] = 1 # for bias\n",
    "\n",
    "    # extract feature\n",
    "    hr = 0\n",
    "    for i in range(n):\n",
    "        X[0:15*9, i] = testset.df.iloc[i*9:(i+1)*9].to_numpy().flatten()\n",
    "        #X[15*9:15*9*2, i] = X[0:15*9, i] ** 2\n",
    "        X[15*9, i] = hr\n",
    "        hr = (hr +1 )%24\n",
    "\n",
    "    testset.X = X\n",
    "    testset.X_t = X.T\n",
    "\n",
    "    #testset.normalize()\n",
    "\n",
    "preprocess_testing_data()"
   ]
  },
  {
   "cell_type": "code",
   "execution_count": 430,
   "metadata": {},
   "outputs": [
    {
     "data": {
      "text/plain": [
       "array([16, 17, 19, 33, 22, 35, 46, 65, 71, 54, 47, 47, 60, 52, 40, 45, 33,\n",
       "       26, 24, 33, 33, 30, 27, 23, 24, 16,  7,  9, 20, 21, 26, 18, 20, 17,\n",
       "       23, 25, 19, 19,  8,  7, 14, 25, 22, 25, 20, 29, 32, 33, 34, 31, 45,\n",
       "       34, 37, 39, 22, 23, 17, 15,  6,  4,  3,  0,  7,  8, 12,  7,  5,  9,\n",
       "       21, 22, 28, 30, 24, 20, 49, 24, 21, 16, 17, 16, 16, 14,  8, 11, 19,\n",
       "       24, 10,  8,  8,  8, 14, 12, 16, 20, 26, 30, 38, 35, 27, 22, 51, 34,\n",
       "       24, 11, -7, 28, 28, 19, 15,  5,  4, 13, 18, 14, 15, 20, 23, 23, 25,\n",
       "       21, 20, 25, 26, 29, 23, 27, 25, 23, 40, 52, 38, 11, 12,  8, 23, 17,\n",
       "       16, 20, 26, 17, 29, 31, 26, 13, 12, 16, 21, 27, 27, 19,  2,  8, 10,\n",
       "       21, 24, 25,  6, 15, 25, 26, 24, 24, 13, 10,  6, 16, 29, 32, 32, 28,\n",
       "       37, 18,  3, 14, 15, 20, 24, 21, 29, 27, 23, 27, 27, 36, 29, 29, 20,\n",
       "       27, 33, 32, 25, 26, 25, 19, 21, 23, 20, 28, 22, 29, 37, 24, 23, 23,\n",
       "       18, 11, 10,  6,  4, 17, 18, 18, 15, 16, 22, 21, 14, 16, 19, 24, 23,\n",
       "       30, 20, 17, 21, 19, 24, 18,  0, 19, 17, 17, 30, 26, 25, 20, 31, 32,\n",
       "       34, 27, 33, 19,  9, 12, 20, 30, 33, 25, 46, 44, 30, 28, 39, 25, 28,\n",
       "       33, 35, 23, 24, 19, 16, 25, -1, 29, 30, 19, 12, 16, 17, 21, 17, 23,\n",
       "       22, 38, 35, 34, 22, 23, 29, 38, 33, 31, 33, 35, 39, 38, 35, 35, 21,\n",
       "       19, 22, 16, 17,  7, 10, 13, 11, 14, 11,  6,  9,  8,  9, 12, 13,  8,\n",
       "        5,  9,  5,  5,  8,  3, 14, 21, 21, 16, 15, 22, 20, 22, 14, 19, 18,\n",
       "       17,  9,  3,  4,  8,  9,  8,  6,  3,  8,  6, 14, 14, 17,  6,  9, 11,\n",
       "        7, 12, 16, 10,  2, 11,  9, 12,  0,  4,  5,  9,  7, 15,  7, 15,  8,\n",
       "        7,  8,  6,  5,  7,  6,  1,  8,  3,  7,  6,  6,  3,  5,  8,  4, 10,\n",
       "        5,  5,  6,  4,  1,  6,  4,  4, 12,  7, 10, 12, 10,  8,  7,  8, 10,\n",
       "        4,  4,  5,  2, 10, 10,  9,  9,  6,  8, 12,  6, 12,  6,  7,  7,  8,\n",
       "       20,  7,  5,  4,  8,  6,  6, 13,  5,  7,  4,  3,  7,  6,  7,  9,  7,\n",
       "       11, 10, 11,  5,  9,  2,  4,  8,  7,  7,  6,  9, 10,  9,  9, 10, 10,\n",
       "        9, 13,  9, 12,  7,  6,  4,  6,  9,  7, 15,  2,  5,  6, 11,  7,  5,\n",
       "       11, 14, 10, 10,  5, 11,  1, 12,  5,  6,  8,  3,  3, 10,  8,  4,  4,\n",
       "        7,  3,  5,  6,  8,  8, 10, 13,  4,  9,  7,  6,  2,  5, 10,  6,  4,\n",
       "        8,  8, 10,  6,  8, 14, 10])"
      ]
     },
     "execution_count": 430,
     "metadata": {},
     "output_type": "execute_result"
    }
   ],
   "source": [
    "def predict():\n",
    "    y_pred = np.dot(testset.X_t, testset.w).round(0).astype(int)\n",
    "    return y_pred\n",
    "y_pred = predict()\n",
    "y_pred"
   ]
  },
  {
   "cell_type": "code",
   "execution_count": 431,
   "metadata": {},
   "outputs": [],
   "source": [
    "pred_df = pd.DataFrame({\n",
    "    'id': ['id_' + str(i) for i in range(500)],\n",
    "    'value': y_pred\n",
    "})\n",
    "pred_df.to_csv('submission.csv', index=False)"
   ]
  },
  {
   "cell_type": "code",
   "execution_count": null,
   "metadata": {},
   "outputs": [],
   "source": []
  },
  {
   "cell_type": "code",
   "execution_count": 419,
   "metadata": {},
   "outputs": [
    {
     "name": "stdout",
     "output_type": "stream",
     "text": [
      "w_hat [[ 0.13  2.18 -2.18  2.19 -0.48  0.   -0.02 -0.62 -0.41]\n",
      " [-0.01  0.01 -0.23  0.    0.33  0.04 -0.06 -2.43  2.48]\n",
      " [-2.5  -0.7  -0.    0.17 -0.9  -0.41 -0.01  0.03 -0.14]\n",
      " [ 0.   -0.43 -0.04  0.12 -1.52  1.44 -1.44  1.6   0.03]\n",
      " [-1.77  1.33  1.41  0.01  0.04 -0.28  0.    0.15  0.  ]\n",
      " [ 0.06  0.9  -0.87  0.85 -0.62  0.01  0.76  0.28 -0.55]\n",
      " [-0.   -0.01  0.14 -0.   -0.39 -0.05 -0.13 -0.94  0.92]\n",
      " [-0.91  0.11 -0.01  0.34 -1.99 -0.35 -0.02  0.04 -0.3 ]\n",
      " [ 0.    0.3   0.09  0.09 -2.59  2.56 -2.54 -0.48 -0.03]\n",
      " [ 0.53 -0.87 -0.79  0.    0.03  0.69  0.    0.27 -0.07]\n",
      " [ 0.11 -1.26  1.24 -1.24  0.34 -0.01  0.63 -0.68 -0.06]\n",
      " [-0.07  0.08  0.27  0.   -0.27  0.04 -0.27 -0.87  0.87]\n",
      " [-1.02 -0.23 -0.06 -0.14 -0.74 -0.36 -0.02  0.19 -0.01]\n",
      " [-0.   -0.69 -0.3   0.12  0.11 -0.08  0.24  0.6   0.09]\n",
      " [ 2.58  0.13 -1.52  0.15  0.49 -1.64 -0.    0.63  0.25]] [0.02 0.   7.4 ]\n",
      "w [[ 0.01 -0.01 -0.    0.   -0.    0.01  0.    0.   -0.  ]\n",
      " [-0.02  0.01 -0.    0.   -0.01  0.01  0.    0.01  0.02]\n",
      " [ 0.   -0.    0.01  0.    0.   -0.   -0.    0.03 -0.  ]\n",
      " [-0.   -0.01  0.01  0.01 -0.02 -0.01  0.02  0.    0.03]\n",
      " [ 0.    0.   -0.    0.01  0.04 -0.    0.   -0.01 -0.  ]\n",
      " [ 0.   -0.01  0.01  0.02 -0.   -0.    0.    0.   -0.  ]\n",
      " [-0.01  0.03 -0.   -0.   -0.01 -0.    0.   -0.02 -0.01]\n",
      " [ 0.02 -0.   -0.03  0.    0.   -0.   -0.02  0.05 -0.  ]\n",
      " [ 0.   -0.01 -0.   -0.   -0.03 -0.02  0.01 -0.   -0.02]\n",
      " [ 0.    0.   -0.   -0.02  0.05 -0.    0.   -0.01 -0.02]\n",
      " [-0.    0.   -0.01 -0.01 -0.   -0.03  0.    0.    0.  ]\n",
      " [-0.07  0.09 -0.    0.   -0.01 -0.01 -0.   -0.01 -0.03]\n",
      " [-0.02 -0.    0.02  0.    0.    0.   -0.01  0.16 -0.  ]\n",
      " [-0.   -0.01 -0.01  0.01  0.01  0.07  0.06  0.    0.03]\n",
      " [ 0.01  0.    0.    0.22  0.38 -0.01 -0.   -0.01  0.05]] [0.03 0.   0.  ]\n",
      "loss 289917.6794856703\n"
     ]
    },
    {
     "name": "stderr",
     "output_type": "stream",
     "text": [
      "/home/soyccan/anaconda3/envs/ml-hw1-tmp/lib/python3.6/site-packages/ipykernel_launcher.py:2: FutureWarning: `rcond` parameter will change to the default of machine precision times ``max(M, N)`` where M and N are the input matrix dimensions.\n",
      "To use the future default and silence this warning we advise to pass `rcond=None`, to keep using the old, explicitly pass `rcond=-1`.\n",
      "  \n"
     ]
    }
   ],
   "source": [
    "def closed_form_solution():\n",
    "    w_hat, residuals, rank, s  = np.linalg.lstsq(trainset.X_t, trainset.y_hat)\n",
    "    #print(residuals, rank, s)\n",
    "    X = trainset.X\n",
    "    X_t = trainset.X_t\n",
    "    y_hat = trainset.y_hat\n",
    "    assert w_hat.shape[0] == DIM\n",
    "    print('w_hat',w_hat[:15*9].reshape((15,9)),w_hat[15*9:])\n",
    "    print('w',testset.w[:15*9].reshape((15,9)),testset.w[15*9:])\n",
    "    print('loss', np.linalg.norm(trainset.X_t.dot(w_hat) - trainset.y_hat)**2)\n",
    "closed_form_solution()"
   ]
  },
  {
   "cell_type": "code",
   "execution_count": null,
   "metadata": {},
   "outputs": [],
   "source": []
  }
 ],
 "metadata": {
  "kernelspec": {
   "display_name": "Python 3",
   "language": "python",
   "name": "python3"
  },
  "language_info": {
   "codemirror_mode": {
    "name": "ipython",
    "version": 3
   },
   "file_extension": ".py",
   "mimetype": "text/x-python",
   "name": "python",
   "nbconvert_exporter": "python",
   "pygments_lexer": "ipython3",
   "version": "3.6.12"
  }
 },
 "nbformat": 4,
 "nbformat_minor": 4
}

{
 "cells": [
  {
   "cell_type": "code",
   "execution_count": 1,
   "metadata": {},
   "outputs": [],
   "source": [
    "import pandas as pd\n",
    "import numpy as np\n",
    "np.set_printoptions(precision=6, suppress=True)"
   ]
  },
  {
   "cell_type": "code",
   "execution_count": 2,
   "metadata": {},
   "outputs": [],
   "source": [
    "class G:\n",
    "    # global variables\n",
    "    pass\n",
    "\n",
    "def sigmoid(z):\n",
    "    return 1 / (1 + np.exp(-z))"
   ]
  },
  {
   "cell_type": "code",
   "execution_count": 3,
   "metadata": {},
   "outputs": [],
   "source": [
    "G.df_train_full = pd.read_csv('X_train', dtype=np.int32)\n",
    "G.df_test_full = pd.read_csv('X_test', dtype=np.int32)\n",
    "G.y_train = np.array(open('Y_train').read().strip('\\n').split('\\n'), dtype=np.int8)"
   ]
  },
  {
   "cell_type": "code",
   "execution_count": 4,
   "metadata": {},
   "outputs": [
    {
     "name": "stdout",
     "output_type": "stream",
     "text": [
      "n,d (32561, 106)\n"
     ]
    }
   ],
   "source": [
    "def normalize(df, means, stds):\n",
    "#     cols = ['age', 'fnlwgt', 'hours_per_week', 'capital_gain', 'capital_loss']\n",
    "    cols = df.columns\n",
    "    df = df.copy()\n",
    "    df[cols] = (df[cols] - means[cols]) / stds[cols]\n",
    "    return df\n",
    "\n",
    "def extract(df):\n",
    "    c = len(df.columns)\n",
    "    n = len(df)\n",
    "    d = c\n",
    "\n",
    "    X = np.zeros((n, d), dtype=np.float64)\n",
    "    X[:, 0:c] = df.values\n",
    "\n",
    "    return X\n",
    "\n",
    "def preprocess(df_train, df_test):\n",
    "    df_all = pd.concat((df_train, df_test))\n",
    "    means = df_all.mean()\n",
    "    stds = df_all.std()\n",
    "    \n",
    "    df_train = normalize(df_train, means, stds)\n",
    "    df_test = normalize(df_test, means, stds)\n",
    "    X_train = extract(df_train)\n",
    "    X_test = extract(df_test)\n",
    "    \n",
    "    print('n,d', X_train.shape)\n",
    "\n",
    "    return X_train, X_test\n",
    "\n",
    "G.X_train, G.X_test = preprocess(G.df_train_full, G.df_test_full)\n",
    "# np.savetxt('a.csv',G.X_train,fmt='%.2f',delimiter=',')"
   ]
  },
  {
   "cell_type": "code",
   "execution_count": 5,
   "metadata": {
    "scrolled": true
   },
   "outputs": [],
   "source": [
    "class Model:\n",
    "    # continuous columns: 'age', 'fnlwgt', 'hours_per_week', 'capital_gain', 'capital_loss'\n",
    "    # others are binary columns (value is 0 or 1)\n",
    "#     cont_cols = np.array([0, 1, 3, 4, 5])    \n",
    "    cont_cols = np.arange(106)\n",
    "    bin_cols = np.setdiff1d(np.arange(106), cont_cols)\n",
    "\n",
    "    def __init__(self, X, y):\n",
    "        n, d = X.shape\n",
    "        XT = X.T\n",
    "        X0_cont = XT[Model.cont_cols[:, None], y == 0]\n",
    "        X1_cont = XT[Model.cont_cols[:, None], y == 1]\n",
    "        X0_bin = XT[Model.bin_cols[:, None], y == 0]\n",
    "        X1_bin = XT[Model.bin_cols[:, None], y == 1]\n",
    "        n1 = np.count_nonzero(y)\n",
    "        n0 = n - n1\n",
    "\n",
    "        mean0 = np.mean(X0_cont, axis=1)\n",
    "        mean1 = np.mean(X1_cont, axis=1)\n",
    "        std0 = np.std(X0_cont, axis=1)\n",
    "        std1 = np.std(X1_cont, axis=1)\n",
    "        cov0 = np.cov(X0_cont)\n",
    "        cov1 = np.cov(X1_cont)\n",
    "        cov = n0 / n * cov0 + n1 / n * cov1\n",
    "        cov_inv = np.linalg.inv(cov)\n",
    "\n",
    "        self.w = (mean0 - mean1) @ cov_inv\n",
    "        self.b = -0.5 * (mean0 @ cov_inv @ mean0 - mean1 @ cov_inv @ mean1) + np.log(n0 / n1)    \n",
    "        self.n0, self.n1 = n0, n1\n",
    "\n",
    "    def predict(self, X):\n",
    "        n, d = X.shape\n",
    "\n",
    "        # px := P(x|C0)\n",
    "        px = sigmoid(X @ self.w + self.b)\n",
    "        \n",
    "        return np.rint(1-px).astype(np.int8)"
   ]
  },
  {
   "cell_type": "code",
   "execution_count": 6,
   "metadata": {},
   "outputs": [
    {
     "name": "stdout",
     "output_type": "stream",
     "text": [
      "accur [0.8352525717795178, 0.8358667280822969, 0.8424689083371718, 0.7575617994779671, 0.8403193612774451] 0.8222938737908798\n"
     ]
    }
   ],
   "source": [
    "def cross_validate(X, y):\n",
    "    n, d = X.shape\n",
    "    cv = 5\n",
    "    nval = (n + cv - 1) // cv\n",
    "    accur = []\n",
    "    for i in range(cv):\n",
    "        idxval = np.zeros(n, dtype=np.bool)\n",
    "        idxval[nval*i:nval*(i+1)] = True\n",
    "        model = Model(X[~idxval, :], y[~idxval])\n",
    "        y_pred = model.predict(X[idxval])\n",
    "        accur.append(np.count_nonzero(y_pred == y[idxval]) / nval)\n",
    "    print('accur', accur, np.mean(accur))\n",
    "\n",
    "cross_validate(G.X_train, G.y_train)"
   ]
  },
  {
   "cell_type": "code",
   "execution_count": 7,
   "metadata": {},
   "outputs": [
    {
     "name": "stdout",
     "output_type": "stream",
     "text": [
      "[0 0 0 0 0 0 0 1 0 0 0 1 0 0 0 1 0 0 0 1 1 0 0 0 1 0 0 0 0 0 1 0 0 0 0 0 1\n",
      " 0 0 0 1 1 0 0 0 1 0 0 0 0 0 0 0 0 0 0 0 1 1 0 0 0 0 0 0 0 1 0 0 0 1 1 0 0\n",
      " 0 0 0 0 0 0 0 0 0 1 0 0 0 0 0 1 0 0 1 0 0 0 0 0 0 0]\n"
     ]
    }
   ],
   "source": [
    "G.model = Model(G.X_train, G.y_train)\n",
    "G.y_test = G.model.predict(G.X_test)\n",
    "df_pred = pd.DataFrame({\n",
    "    'id': np.arange(1, len(G.X_test)+1),\n",
    "    'label': G.y_test\n",
    "})\n",
    "df_pred.to_csv('submission.csv', index=False)\n",
    "print(df_pred['label'].values[:100])"
   ]
  },
  {
   "cell_type": "code",
   "execution_count": null,
   "metadata": {},
   "outputs": [],
   "source": []
  }
 ],
 "metadata": {
  "kernelspec": {
   "display_name": "Python 3",
   "language": "python",
   "name": "python3"
  },
  "language_info": {
   "codemirror_mode": {
    "name": "ipython",
    "version": 3
   },
   "file_extension": ".py",
   "mimetype": "text/x-python",
   "name": "python",
   "nbconvert_exporter": "python",
   "pygments_lexer": "ipython3",
   "version": "3.6.11"
  }
 },
 "nbformat": 4,
 "nbformat_minor": 4
}

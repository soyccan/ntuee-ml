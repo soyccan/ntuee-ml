{
 "cells": [
  {
   "cell_type": "code",
   "execution_count": 1,
   "metadata": {},
   "outputs": [],
   "source": [
    "import pandas as pd\n",
    "import numpy as np\n",
    "import joblib\n",
    "np.set_printoptions(precision=2, suppress=True)"
   ]
  },
  {
   "cell_type": "code",
   "execution_count": 2,
   "metadata": {},
   "outputs": [],
   "source": [
    "class G:\n",
    "    # global variables\n",
    "    pass\n",
    "\n",
    "def sigmoid(z):\n",
    "    return 1 / (1 + np.exp(-z))"
   ]
  },
  {
   "cell_type": "code",
   "execution_count": 3,
   "metadata": {},
   "outputs": [],
   "source": [
    "G.df_train_full = pd.read_csv('X_train', dtype=np.int32)\n",
    "G.df_test_full = pd.read_csv('X_test', dtype=np.int32)\n",
    "G.y_train = np.array(open('Y_train').read().strip('\\n').split('\\n'), dtype=np.int8)"
   ]
  },
  {
   "cell_type": "code",
   "execution_count": 48,
   "metadata": {},
   "outputs": [],
   "source": [
    "def extract(df):\n",
    "    c = len(df.columns)\n",
    "    n = len(df)\n",
    "    d = 1 + c\n",
    "\n",
    "    X = np.zeros((n, d))\n",
    "    X[:, 0] = 1  # bias\n",
    "    X[:, 1:1+c] = df.values\n",
    "\n",
    "    return X\n",
    "\n",
    "\n",
    "def preprocess_train(df):\n",
    "    df = df.copy()\n",
    "    col_mean = df.mean()\n",
    "    col_std = df.std()\n",
    "\n",
    "    # normalize\n",
    "    normcols = ['age', 'fnlwgt', 'hours_per_week']\n",
    "    normcols += ['capital_gain', 'capital_loss']\n",
    "    df[normcols] = (df[normcols] - df[normcols].mean()) / df[normcols].std()\n",
    "#     scale_down_cols = ['capital_gain', 'capital_loss']\n",
    "#     df[scale_down_cols] = df[scale_down_cols] / df[scale_down_cols].mean()\n",
    "\n",
    "    return extract(df), normcols, col_mean, col_std\n",
    "\n",
    "def preprocess_test(df):\n",
    "    df = df.copy()\n",
    "    \n",
    "    return extract(df)\n",
    "\n",
    "G.X_train, G.normcols, G.col_mean, G.col_std = preprocess_train(G.df_train_full)\n",
    "G.X_test = preprocess_test(G.df_test_full)"
   ]
  },
  {
   "cell_type": "code",
   "execution_count": 98,
   "metadata": {},
   "outputs": [
    {
     "data": {
      "text/plain": [
       "(32561, 107)"
      ]
     },
     "execution_count": 98,
     "metadata": {},
     "output_type": "execute_result"
    }
   ],
   "source": [
    "G.X_train.shape"
   ]
  },
  {
   "cell_type": "code",
   "execution_count": 99,
   "metadata": {},
   "outputs": [
    {
     "ename": "SyntaxError",
     "evalue": "invalid syntax (<ipython-input-99-aad3689d58bc>, line 26)",
     "output_type": "error",
     "traceback": [
      "\u001b[0;36m  File \u001b[0;32m\"<ipython-input-99-aad3689d58bc>\"\u001b[0;36m, line \u001b[0;32m26\u001b[0m\n\u001b[0;31m    scipy.stats.norm(log=, scale=)\u001b[0m\n\u001b[0m                         ^\u001b[0m\n\u001b[0;31mSyntaxError\u001b[0m\u001b[0;31m:\u001b[0m invalid syntax\n"
     ]
    }
   ],
   "source": [
    "class Model:\n",
    "    # continuous columns: 'age', 'fnlwgt', 'hours_per_week', 'capital_gain', 'capital_loss'\n",
    "    # others are binary columns\n",
    "    cont_cols = [0, 1, 3, 4, 5]\n",
    "    bin_cols = np.setdiff1d(np.arange(107), cont_cols)\n",
    "\n",
    "    def __init__(self, X, y):\n",
    "        n, d = X.shape\n",
    "        XT = X.T\n",
    "        X0 = XT[1:, y == 0] # remove bias term\n",
    "        X1 = XT[1:, y == 1]\n",
    "\n",
    "        self.mean0 = np.mean(X0, axis=1)\n",
    "        self.mean1 = np.mean(X1, axis=1)\n",
    "        self.cov0 = np.cov(X0)\n",
    "        self.cov1 = np.cov(X1)\n",
    "        self.p_x0_given_c0 = np.prod(np.count_nonzero(X0, axis=1)[Model.bin_cols] / n)\n",
    "        self.p_x0_given_c1 = np.prod(np.count_nonzero(X1, axis=1)[Model.bin_cols] / n)\n",
    "        self.p_c0 = X0.shape[1] / n\n",
    "        self.p_c1 = X1.shape[1] / n\n",
    "    \n",
    "    def predict(self, X):\n",
    "        XT = X.T\n",
    "        n, d = X.shape\n",
    "        #p_x_given_0 = 1 / (2*np.pi)**(d/2) / np.sqrt(np.linalg.det(self.cov0)) * np.exp(-1/2 * (X - self.mean0.T) @ np.linalg.inv(self.cov0) @ (XT - self.mean))\n",
    "\n",
    "        p_c0_given_x0 = self.p_x0_given_c0 * self.p_c0 / (self.p_x0_given_c0 * self.p_c0 + self.p_x0_given_c1 * self.p_c1)\n",
    "        p_c0_given_x1 = self.p_x1_given_c0 * self.p_c0 / (self.p_x1_given_c0 * self.p_c0 + self.p_x1_given_c1 * self.p_c1)\n",
    "\n",
    "        scipy.stats.norm(loc=np.mean(X0, axis=1), scale=np.std(X0, axis=1))        \n",
    "\n",
    "G.model = Model(G.X_train, G.y_train)\n",
    "print(G.model.p_x0_given_c0)\n",
    "G.model.predict(G.X_test)"
   ]
  },
  {
   "cell_type": "code",
   "execution_count": 92,
   "metadata": {},
   "outputs": [
    {
     "name": "stdout",
     "output_type": "stream",
     "text": [
      "[[ 0.03 -1.06  1.   ...  0.    0.    0.  ]\n",
      " [ 0.84 -1.01  1.   ...  0.    0.    0.  ]\n",
      " [-0.04  0.25  1.   ...  0.    0.    0.  ]\n",
      " ...\n",
      " [ 1.42 -0.36  0.   ...  0.    0.    0.  ]\n",
      " [-1.22  0.11  1.   ...  0.    0.    0.  ]\n",
      " [ 0.98  0.93  0.   ...  0.    0.    0.  ]]\n",
      "\n",
      "[[ 1.   -0.08  0.04  0.08  0.06  0.07  0.01  0.01 -0.  ]\n",
      " [-0.08  1.    0.01  0.   -0.01 -0.02 -0.   -0.    0.  ]\n",
      " [ 0.04  0.01  0.22  0.02  0.02  0.11  0.   -0.    0.  ]\n",
      " [ 0.08  0.    0.02  1.   -0.03  0.08 -0.   -0.   -0.  ]\n",
      " [ 0.06 -0.01  0.02 -0.03  1.    0.05  0.    0.   -0.  ]\n",
      " [ 0.07 -0.02  0.11  0.08  0.05  1.    0.    0.   -0.  ]\n",
      " [ 0.01 -0.    0.   -0.    0.    0.    0.03 -0.   -0.  ]\n",
      " [ 0.01 -0.   -0.   -0.    0.    0.   -0.    0.06 -0.  ]\n",
      " [-0.    0.    0.   -0.   -0.   -0.   -0.   -0.    0.  ]]\n",
      "\n",
      "0.000000073745285511106963981416\n"
     ]
    }
   ],
   "source": [
    "X=G.X_train[:, 1:10]\n",
    "print(X)\n",
    "print()\n",
    "print(np.cov(X.T))\n",
    "print()\n",
    "print('{:.30f}'.format(np.linalg.det(np.cov(X.T))))"
   ]
  },
  {
   "cell_type": "code",
   "execution_count": 94,
   "metadata": {},
   "outputs": [
    {
     "data": {
      "text/plain": [
       "Index(['age', 'fnlwgt', 'sex', 'capital_gain', 'capital_loss',\n",
       "       'hours_per_week', ' Federal-gov', ' Local-gov', ' Never-worked',\n",
       "       ' Private',\n",
       "       ...\n",
       "       ' Puerto-Rico', ' Scotland', ' South', ' Taiwan', ' Thailand',\n",
       "       ' Trinadad&Tobago', ' United-States', ' Vietnam', ' Yugoslavia',\n",
       "       '?_native_country'],\n",
       "      dtype='object', length=106)"
      ]
     },
     "execution_count": 94,
     "metadata": {},
     "output_type": "execute_result"
    }
   ],
   "source": [
    "G.df_train_full.columns"
   ]
  },
  {
   "cell_type": "code",
   "execution_count": null,
   "metadata": {},
   "outputs": [],
   "source": []
  }
 ],
 "metadata": {
  "kernelspec": {
   "display_name": "Python 3",
   "language": "python",
   "name": "python3"
  },
  "language_info": {
   "codemirror_mode": {
    "name": "ipython",
    "version": 3
   },
   "file_extension": ".py",
   "mimetype": "text/x-python",
   "name": "python",
   "nbconvert_exporter": "python",
   "pygments_lexer": "ipython3",
   "version": "3.6.11"
  }
 },
 "nbformat": 4,
 "nbformat_minor": 4
}

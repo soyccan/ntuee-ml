{
 "cells": [
  {
   "cell_type": "code",
   "execution_count": 1,
   "metadata": {},
   "outputs": [],
   "source": [
    "import pandas as pd\n",
    "import numpy as np\n",
    "import sklearn.model_selection\n",
    "from sklearn.experimental import enable_hist_gradient_boosting\n",
    "import sklearn.ensemble\n",
    "import sklearn.metrics\n",
    "import joblib\n",
    "from pprint import pprint\n",
    "np.set_printoptions(precision=2, suppress=True)"
   ]
  },
  {
   "cell_type": "code",
   "execution_count": 2,
   "metadata": {},
   "outputs": [],
   "source": [
    "class G:\n",
    "    # global variables\n",
    "    pass"
   ]
  },
  {
   "cell_type": "code",
   "execution_count": 3,
   "metadata": {
    "scrolled": true
   },
   "outputs": [],
   "source": [
    "G.df_train_full = pd.read_csv('X_train', dtype=np.int32)\n",
    "G.df_test_full = pd.read_csv('X_test', dtype=np.int32)\n",
    "G.y_train = np.array(open('Y_train').read().strip('\\n').split('\\n'), dtype=np.int8)"
   ]
  },
  {
   "cell_type": "code",
   "execution_count": 4,
   "metadata": {},
   "outputs": [
    {
     "name": "stdout",
     "output_type": "stream",
     "text": [
      "n,d (32561, 107)\n"
     ]
    }
   ],
   "source": [
    "def normalize(df, means, stds):\n",
    "#     cols = ['age', 'fnlwgt', 'hours_per_week', 'capital_gain', 'capital_loss']\n",
    "    cols = df.columns\n",
    "    df = df.copy()\n",
    "    df[cols] = (df[cols] - means[cols]) / stds[cols]\n",
    "    return df\n",
    "\n",
    "def extract(df):\n",
    "    c = len(df.columns)\n",
    "    n = len(df)\n",
    "    d = 1 + c #+ 5*5 + 5\n",
    "\n",
    "    X = np.zeros((n, d), dtype=np.float64)\n",
    "    X[:, 0] = 1  # bias\n",
    "    X[:, 1:1+c] = df.values\n",
    "\n",
    "    # quadratic term (including cross product)\n",
    "    # ['age', 'fnlwgt', 'hours_per_week', 'capital_gain', 'capital_loss']\n",
    "#     idx = np.array([1, 2, 4, 5, 6])\n",
    "#     st = 1 + c\n",
    "#     en = 1 + c + 5*5\n",
    "#     X[:, st:en] = (X[:, idx[:, None]] * X[:, idx[None, :]]).reshape((n, 5*5))\n",
    "    \n",
    "#     # cubic term\n",
    "#     st = 1 + c + 25\n",
    "#     en = 1 + c + 25 + 5\n",
    "#     X[:, st:en] = X[:, idx] ** 3\n",
    "\n",
    "    return X\n",
    "\n",
    "def preprocess(df_train, df_test):\n",
    "    df_all = pd.concat((df_train, df_test))\n",
    "    means = df_all.mean()\n",
    "    stds = df_all.std()\n",
    "    \n",
    "#     df_train = normalize(df_train, means, stds)\n",
    "#     df_test = normalize(df_test, means, stds)\n",
    "    X_train = extract(df_train)\n",
    "    X_test = extract(df_test)\n",
    "    \n",
    "    print('n,d', X_train.shape)\n",
    "\n",
    "    return X_train, X_test\n",
    "\n",
    "G.X_train, G.X_test = preprocess(G.df_train_full, G.df_test_full)\n",
    "# np.savetxt('a.csv',G.X_train,fmt='%.2f',delimiter=',')"
   ]
  },
  {
   "cell_type": "code",
   "execution_count": 5,
   "metadata": {},
   "outputs": [],
   "source": [
    "# clf = sklearn.ensemble.HistGradientBoostingClassifier()\n",
    "# grid = sklearn.model_selection.GridSearchCV(\n",
    "#         clf,\n",
    "#         {\n",
    "#             'learning_rate': np.linspace(1e-3, 1, 20),\n",
    "#             'random_state': [0],\n",
    "#             'l2_regularization': np.linspace(1e-3, 1, 20),\n",
    "#         },\n",
    "#         scoring='accuracy',\n",
    "#         n_jobs=8,\n",
    "#         cv=3,\n",
    "#         return_train_score=True,\n",
    "#         refit=True)\n",
    "# grid.fit(G.X_train, G.y_train)\n",
    "# pprint(grid.cv_results_)"
   ]
  },
  {
   "cell_type": "code",
   "execution_count": 6,
   "metadata": {},
   "outputs": [],
   "source": [
    "# pprint(grid.best_params_)"
   ]
  },
  {
   "cell_type": "code",
   "execution_count": 7,
   "metadata": {},
   "outputs": [
    {
     "data": {
      "text/plain": [
       "HistGradientBoostingClassifier()"
      ]
     },
     "execution_count": 7,
     "metadata": {},
     "output_type": "execute_result"
    }
   ],
   "source": [
    "grid = sklearn.ensemble.HistGradientBoostingClassifier()\n",
    "grid.fit(G.X_train, G.y_train)"
   ]
  },
  {
   "cell_type": "code",
   "execution_count": 8,
   "metadata": {},
   "outputs": [
    {
     "name": "stdout",
     "output_type": "stream",
     "text": [
      "[0 0 0 1 0 0 0 1 0 0 1 1 0 0 1 1 0 0 0 1 1 0 0 0 0 1 0 0 0 0 1 0 0 0 0 0 1\n",
      " 0 0 0 1 1 0 0 0 0 0 0 0 0 0 0 0 1 0 0 0 1 1 0 0 0 0 0 0 0 1 0 0 0 1 1 0 0\n",
      " 0 0 0 0 0 0 0 0 0 1 0 0 0 1 0 1 0 0 1 0 0 0 0 0 0 0]\n"
     ]
    }
   ],
   "source": [
    "G.y_test = grid.predict(G.X_test)\n",
    "df_pred = pd.DataFrame({\n",
    "    'id': np.arange(1, len(G.X_test)+1),\n",
    "    'label': G.y_test\n",
    "})\n",
    "df_pred.to_csv('submission.csv', index=False)\n",
    "print(df_pred['label'].values[:100])"
   ]
  },
  {
   "cell_type": "code",
   "execution_count": 11,
   "metadata": {},
   "outputs": [
    {
     "data": {
      "text/plain": [
       "['boost/3.pkl']"
      ]
     },
     "execution_count": 11,
     "metadata": {},
     "output_type": "execute_result"
    }
   ],
   "source": [
    "# joblib.dump(grid, 'boost/3.pkl')"
   ]
  },
  {
   "cell_type": "code",
   "execution_count": null,
   "metadata": {},
   "outputs": [],
   "source": []
  },
  {
   "cell_type": "code",
   "execution_count": null,
   "metadata": {},
   "outputs": [],
   "source": []
  },
  {
   "cell_type": "code",
   "execution_count": null,
   "metadata": {},
   "outputs": [],
   "source": []
  }
 ],
 "metadata": {
  "kernelspec": {
   "display_name": "Python 3",
   "language": "python",
   "name": "python3"
  },
  "language_info": {
   "codemirror_mode": {
    "name": "ipython",
    "version": 3
   },
   "file_extension": ".py",
   "mimetype": "text/x-python",
   "name": "python",
   "nbconvert_exporter": "python",
   "pygments_lexer": "ipython3",
   "version": "3.6.11"
  }
 },
 "nbformat": 4,
 "nbformat_minor": 4
}

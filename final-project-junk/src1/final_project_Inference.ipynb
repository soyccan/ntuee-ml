{
  "nbformat": 4,
  "nbformat_minor": 0,
  "metadata": {
    "colab": {
      "name": "final_project_Inference",
      "provenance": []
    },
    "kernelspec": {
      "name": "python3",
      "display_name": "Python 3"
    },
    "accelerator": "GPU"
  },
  "cells": [
    {
      "cell_type": "markdown",
      "metadata": {
        "id": "BJWIi8uOS0XI"
      },
      "source": [
        "# https://medium.com/@guildbilla/steel-defect-detection-image-segmentation-using-keras-dae8b4f986f0"
      ]
    },
    {
      "cell_type": "markdown",
      "metadata": {
        "id": "ebKCffTvy3Hu"
      },
      "source": [
        "# Threshold\n",
        "\n",
        "# use model set before 0108 , submissions :\n",
        " \n",
        "---\n",
        "\n",
        "Label Thresholds: 0.7, 0.7, 0.6, 0.6\n",
        "\n",
        "Pixel Thresholds: 0.4, 0.4, 0.4, 0.4\n",
        "\n",
        "0108_1 KAGGLE score : 0.86318\n",
        "\n",
        "---\n",
        "\n",
        "Label Thresholds: 0.95, 0.85, 0.85, 0.85\n",
        "\n",
        "Pixel Thresholds: 0.5, 0.5, 0.75, 0.5\n",
        "\n",
        "0104_2 KAGGLE score : 0.88314\n",
        "\n",
        "---\n",
        "\n",
        "Label Thresholds: 0.9, 0.85, 0.85, 0.85\n",
        "\n",
        "Pixel Thresholds: 0.4, 0.4, 0.4, 0.4\n",
        "\n",
        "0108_2 KAGGLE score : 0.87361\n",
        "\n",
        "---\n",
        "\n"
      ]
    },
    {
      "cell_type": "code",
      "metadata": {
        "colab": {
          "base_uri": "https://localhost:8080/"
        },
        "id": "hLJwSo_ySrOl",
        "outputId": "5cb1a1e3-7a31-440e-f7a6-e1379c5c815b"
      },
      "source": [
        "from google.colab import drive\n",
        "import os\n",
        "drive.mount('/content/gdrive')\n",
        "\n",
        "import os\n",
        "os.chdir('/content/gdrive/My Drive/Colab Notebooks/final_project')"
      ],
      "execution_count": 1,
      "outputs": [
        {
          "output_type": "stream",
          "text": [
            "Mounted at /content/gdrive\n"
          ],
          "name": "stdout"
        }
      ]
    },
    {
      "cell_type": "code",
      "metadata": {
        "colab": {
          "base_uri": "https://localhost:8080/"
        },
        "id": "Jm0PJc4WS4BL",
        "outputId": "dd76ad3b-efd0-4865-98d3-71e84acd025d"
      },
      "source": [
        "!pip install segmentation_models"
      ],
      "execution_count": 2,
      "outputs": [
        {
          "output_type": "stream",
          "text": [
            "Collecting segmentation_models\n",
            "  Downloading https://files.pythonhosted.org/packages/da/b9/4a183518c21689a56b834eaaa45cad242d9ec09a4360b5b10139f23c63f4/segmentation_models-1.0.1-py3-none-any.whl\n",
            "Collecting image-classifiers==1.0.0\n",
            "  Downloading https://files.pythonhosted.org/packages/81/98/6f84720e299a4942ab80df5f76ab97b7828b24d1de5e9b2cbbe6073228b7/image_classifiers-1.0.0-py3-none-any.whl\n",
            "Collecting keras-applications<=1.0.8,>=1.0.7\n",
            "\u001b[?25l  Downloading https://files.pythonhosted.org/packages/71/e3/19762fdfc62877ae9102edf6342d71b28fbfd9dea3d2f96a882ce099b03f/Keras_Applications-1.0.8-py3-none-any.whl (50kB)\n",
            "\u001b[K     |████████████████████████████████| 51kB 7.6MB/s \n",
            "\u001b[?25hCollecting efficientnet==1.0.0\n",
            "  Downloading https://files.pythonhosted.org/packages/97/82/f3ae07316f0461417dc54affab6e86ab188a5a22f33176d35271628b96e0/efficientnet-1.0.0-py3-none-any.whl\n",
            "Requirement already satisfied: h5py in /usr/local/lib/python3.6/dist-packages (from keras-applications<=1.0.8,>=1.0.7->segmentation_models) (2.10.0)\n",
            "Requirement already satisfied: numpy>=1.9.1 in /usr/local/lib/python3.6/dist-packages (from keras-applications<=1.0.8,>=1.0.7->segmentation_models) (1.19.4)\n",
            "Requirement already satisfied: scikit-image in /usr/local/lib/python3.6/dist-packages (from efficientnet==1.0.0->segmentation_models) (0.16.2)\n",
            "Requirement already satisfied: six in /usr/local/lib/python3.6/dist-packages (from h5py->keras-applications<=1.0.8,>=1.0.7->segmentation_models) (1.15.0)\n",
            "Requirement already satisfied: imageio>=2.3.0 in /usr/local/lib/python3.6/dist-packages (from scikit-image->efficientnet==1.0.0->segmentation_models) (2.4.1)\n",
            "Requirement already satisfied: PyWavelets>=0.4.0 in /usr/local/lib/python3.6/dist-packages (from scikit-image->efficientnet==1.0.0->segmentation_models) (1.1.1)\n",
            "Requirement already satisfied: scipy>=0.19.0 in /usr/local/lib/python3.6/dist-packages (from scikit-image->efficientnet==1.0.0->segmentation_models) (1.4.1)\n",
            "Requirement already satisfied: matplotlib!=3.0.0,>=2.0.0 in /usr/local/lib/python3.6/dist-packages (from scikit-image->efficientnet==1.0.0->segmentation_models) (3.2.2)\n",
            "Requirement already satisfied: networkx>=2.0 in /usr/local/lib/python3.6/dist-packages (from scikit-image->efficientnet==1.0.0->segmentation_models) (2.5)\n",
            "Requirement already satisfied: pillow>=4.3.0 in /usr/local/lib/python3.6/dist-packages (from scikit-image->efficientnet==1.0.0->segmentation_models) (7.0.0)\n",
            "Requirement already satisfied: kiwisolver>=1.0.1 in /usr/local/lib/python3.6/dist-packages (from matplotlib!=3.0.0,>=2.0.0->scikit-image->efficientnet==1.0.0->segmentation_models) (1.3.1)\n",
            "Requirement already satisfied: python-dateutil>=2.1 in /usr/local/lib/python3.6/dist-packages (from matplotlib!=3.0.0,>=2.0.0->scikit-image->efficientnet==1.0.0->segmentation_models) (2.8.1)\n",
            "Requirement already satisfied: pyparsing!=2.0.4,!=2.1.2,!=2.1.6,>=2.0.1 in /usr/local/lib/python3.6/dist-packages (from matplotlib!=3.0.0,>=2.0.0->scikit-image->efficientnet==1.0.0->segmentation_models) (2.4.7)\n",
            "Requirement already satisfied: cycler>=0.10 in /usr/local/lib/python3.6/dist-packages (from matplotlib!=3.0.0,>=2.0.0->scikit-image->efficientnet==1.0.0->segmentation_models) (0.10.0)\n",
            "Requirement already satisfied: decorator>=4.3.0 in /usr/local/lib/python3.6/dist-packages (from networkx>=2.0->scikit-image->efficientnet==1.0.0->segmentation_models) (4.4.2)\n",
            "Installing collected packages: keras-applications, image-classifiers, efficientnet, segmentation-models\n",
            "Successfully installed efficientnet-1.0.0 image-classifiers-1.0.0 keras-applications-1.0.8 segmentation-models-1.0.1\n"
          ],
          "name": "stdout"
        }
      ]
    },
    {
      "cell_type": "code",
      "metadata": {
        "colab": {
          "base_uri": "https://localhost:8080/"
        },
        "id": "EKR5JC6jTDBy",
        "outputId": "73047d47-5450-42c1-c8aa-fcc2401fdf38"
      },
      "source": [
        "!pip install q tensorflow==2.1\n",
        "!pip install q keras==2.3.1"
      ],
      "execution_count": 3,
      "outputs": [
        {
          "output_type": "stream",
          "text": [
            "Collecting q\n",
            "  Downloading https://files.pythonhosted.org/packages/53/bc/51619d89e0bd855567e7652fa16d06f1ed36a85f108a7fe71f6629bf719d/q-2.6-py2.py3-none-any.whl\n",
            "Collecting tensorflow==2.1\n",
            "\u001b[?25l  Downloading https://files.pythonhosted.org/packages/85/d4/c0cd1057b331bc38b65478302114194bd8e1b9c2bbc06e300935c0e93d90/tensorflow-2.1.0-cp36-cp36m-manylinux2010_x86_64.whl (421.8MB)\n",
            "\u001b[K     |████████████████████████████████| 421.8MB 24kB/s \n",
            "\u001b[?25hRequirement already satisfied: keras-applications>=1.0.8 in /usr/local/lib/python3.6/dist-packages (from tensorflow==2.1) (1.0.8)\n",
            "Requirement already satisfied: keras-preprocessing>=1.1.0 in /usr/local/lib/python3.6/dist-packages (from tensorflow==2.1) (1.1.2)\n",
            "Requirement already satisfied: protobuf>=3.8.0 in /usr/local/lib/python3.6/dist-packages (from tensorflow==2.1) (3.12.4)\n",
            "Collecting tensorflow-estimator<2.2.0,>=2.1.0rc0\n",
            "\u001b[?25l  Downloading https://files.pythonhosted.org/packages/18/90/b77c328a1304437ab1310b463e533fa7689f4bfc41549593056d812fab8e/tensorflow_estimator-2.1.0-py2.py3-none-any.whl (448kB)\n",
            "\u001b[K     |████████████████████████████████| 450kB 46.6MB/s \n",
            "\u001b[?25hRequirement already satisfied: termcolor>=1.1.0 in /usr/local/lib/python3.6/dist-packages (from tensorflow==2.1) (1.1.0)\n",
            "Requirement already satisfied: wrapt>=1.11.1 in /usr/local/lib/python3.6/dist-packages (from tensorflow==2.1) (1.12.1)\n",
            "Requirement already satisfied: six>=1.12.0 in /usr/local/lib/python3.6/dist-packages (from tensorflow==2.1) (1.15.0)\n",
            "Requirement already satisfied: grpcio>=1.8.6 in /usr/local/lib/python3.6/dist-packages (from tensorflow==2.1) (1.32.0)\n",
            "Requirement already satisfied: numpy<2.0,>=1.16.0 in /usr/local/lib/python3.6/dist-packages (from tensorflow==2.1) (1.19.4)\n",
            "Collecting tensorboard<2.2.0,>=2.1.0\n",
            "\u001b[?25l  Downloading https://files.pythonhosted.org/packages/d9/41/bbf49b61370e4f4d245d4c6051dfb6db80cec672605c91b1652ac8cc3d38/tensorboard-2.1.1-py3-none-any.whl (3.8MB)\n",
            "\u001b[K     |████████████████████████████████| 3.9MB 45.2MB/s \n",
            "\u001b[?25hRequirement already satisfied: absl-py>=0.7.0 in /usr/local/lib/python3.6/dist-packages (from tensorflow==2.1) (0.10.0)\n",
            "Requirement already satisfied: wheel>=0.26; python_version >= \"3\" in /usr/local/lib/python3.6/dist-packages (from tensorflow==2.1) (0.36.2)\n",
            "Requirement already satisfied: astor>=0.6.0 in /usr/local/lib/python3.6/dist-packages (from tensorflow==2.1) (0.8.1)\n",
            "Requirement already satisfied: opt-einsum>=2.3.2 in /usr/local/lib/python3.6/dist-packages (from tensorflow==2.1) (3.3.0)\n",
            "Requirement already satisfied: google-pasta>=0.1.6 in /usr/local/lib/python3.6/dist-packages (from tensorflow==2.1) (0.2.0)\n",
            "Requirement already satisfied: scipy==1.4.1; python_version >= \"3\" in /usr/local/lib/python3.6/dist-packages (from tensorflow==2.1) (1.4.1)\n",
            "Collecting gast==0.2.2\n",
            "  Downloading https://files.pythonhosted.org/packages/4e/35/11749bf99b2d4e3cceb4d55ca22590b0d7c2c62b9de38ac4a4a7f4687421/gast-0.2.2.tar.gz\n",
            "Requirement already satisfied: h5py in /usr/local/lib/python3.6/dist-packages (from keras-applications>=1.0.8->tensorflow==2.1) (2.10.0)\n",
            "Requirement already satisfied: setuptools in /usr/local/lib/python3.6/dist-packages (from protobuf>=3.8.0->tensorflow==2.1) (51.1.1)\n",
            "Requirement already satisfied: requests<3,>=2.21.0 in /usr/local/lib/python3.6/dist-packages (from tensorboard<2.2.0,>=2.1.0->tensorflow==2.1) (2.23.0)\n",
            "Requirement already satisfied: google-auth-oauthlib<0.5,>=0.4.1 in /usr/local/lib/python3.6/dist-packages (from tensorboard<2.2.0,>=2.1.0->tensorflow==2.1) (0.4.2)\n",
            "Requirement already satisfied: google-auth<2,>=1.6.3 in /usr/local/lib/python3.6/dist-packages (from tensorboard<2.2.0,>=2.1.0->tensorflow==2.1) (1.17.2)\n",
            "Requirement already satisfied: werkzeug>=0.11.15 in /usr/local/lib/python3.6/dist-packages (from tensorboard<2.2.0,>=2.1.0->tensorflow==2.1) (1.0.1)\n",
            "Requirement already satisfied: markdown>=2.6.8 in /usr/local/lib/python3.6/dist-packages (from tensorboard<2.2.0,>=2.1.0->tensorflow==2.1) (3.3.3)\n",
            "Requirement already satisfied: idna<3,>=2.5 in /usr/local/lib/python3.6/dist-packages (from requests<3,>=2.21.0->tensorboard<2.2.0,>=2.1.0->tensorflow==2.1) (2.10)\n",
            "Requirement already satisfied: certifi>=2017.4.17 in /usr/local/lib/python3.6/dist-packages (from requests<3,>=2.21.0->tensorboard<2.2.0,>=2.1.0->tensorflow==2.1) (2020.12.5)\n",
            "Requirement already satisfied: chardet<4,>=3.0.2 in /usr/local/lib/python3.6/dist-packages (from requests<3,>=2.21.0->tensorboard<2.2.0,>=2.1.0->tensorflow==2.1) (3.0.4)\n",
            "Requirement already satisfied: urllib3!=1.25.0,!=1.25.1,<1.26,>=1.21.1 in /usr/local/lib/python3.6/dist-packages (from requests<3,>=2.21.0->tensorboard<2.2.0,>=2.1.0->tensorflow==2.1) (1.24.3)\n",
            "Requirement already satisfied: requests-oauthlib>=0.7.0 in /usr/local/lib/python3.6/dist-packages (from google-auth-oauthlib<0.5,>=0.4.1->tensorboard<2.2.0,>=2.1.0->tensorflow==2.1) (1.3.0)\n",
            "Requirement already satisfied: rsa<5,>=3.1.4; python_version >= \"3\" in /usr/local/lib/python3.6/dist-packages (from google-auth<2,>=1.6.3->tensorboard<2.2.0,>=2.1.0->tensorflow==2.1) (4.6)\n",
            "Requirement already satisfied: pyasn1-modules>=0.2.1 in /usr/local/lib/python3.6/dist-packages (from google-auth<2,>=1.6.3->tensorboard<2.2.0,>=2.1.0->tensorflow==2.1) (0.2.8)\n",
            "Requirement already satisfied: cachetools<5.0,>=2.0.0 in /usr/local/lib/python3.6/dist-packages (from google-auth<2,>=1.6.3->tensorboard<2.2.0,>=2.1.0->tensorflow==2.1) (4.2.0)\n",
            "Requirement already satisfied: importlib-metadata; python_version < \"3.8\" in /usr/local/lib/python3.6/dist-packages (from markdown>=2.6.8->tensorboard<2.2.0,>=2.1.0->tensorflow==2.1) (3.3.0)\n",
            "Requirement already satisfied: oauthlib>=3.0.0 in /usr/local/lib/python3.6/dist-packages (from requests-oauthlib>=0.7.0->google-auth-oauthlib<0.5,>=0.4.1->tensorboard<2.2.0,>=2.1.0->tensorflow==2.1) (3.1.0)\n",
            "Requirement already satisfied: pyasn1>=0.1.3 in /usr/local/lib/python3.6/dist-packages (from rsa<5,>=3.1.4; python_version >= \"3\"->google-auth<2,>=1.6.3->tensorboard<2.2.0,>=2.1.0->tensorflow==2.1) (0.4.8)\n",
            "Requirement already satisfied: typing-extensions>=3.6.4; python_version < \"3.8\" in /usr/local/lib/python3.6/dist-packages (from importlib-metadata; python_version < \"3.8\"->markdown>=2.6.8->tensorboard<2.2.0,>=2.1.0->tensorflow==2.1) (3.7.4.3)\n",
            "Requirement already satisfied: zipp>=0.5 in /usr/local/lib/python3.6/dist-packages (from importlib-metadata; python_version < \"3.8\"->markdown>=2.6.8->tensorboard<2.2.0,>=2.1.0->tensorflow==2.1) (3.4.0)\n",
            "Building wheels for collected packages: gast\n",
            "  Building wheel for gast (setup.py) ... \u001b[?25l\u001b[?25hdone\n",
            "  Created wheel for gast: filename=gast-0.2.2-cp36-none-any.whl size=7540 sha256=dd9a8fc7ad4c55b2558d470be48b664d6392fe839327a0c62f0fcb3b80c6721c\n",
            "  Stored in directory: /root/.cache/pip/wheels/5c/2e/7e/a1d4d4fcebe6c381f378ce7743a3ced3699feb89bcfbdadadd\n",
            "Successfully built gast\n",
            "\u001b[31mERROR: tensorflow-probability 0.11.0 has requirement gast>=0.3.2, but you'll have gast 0.2.2 which is incompatible.\u001b[0m\n",
            "Installing collected packages: q, tensorflow-estimator, tensorboard, gast, tensorflow\n",
            "  Found existing installation: tensorflow-estimator 2.4.0\n",
            "    Uninstalling tensorflow-estimator-2.4.0:\n",
            "      Successfully uninstalled tensorflow-estimator-2.4.0\n",
            "  Found existing installation: tensorboard 2.4.0\n",
            "    Uninstalling tensorboard-2.4.0:\n",
            "      Successfully uninstalled tensorboard-2.4.0\n",
            "  Found existing installation: gast 0.3.3\n",
            "    Uninstalling gast-0.3.3:\n",
            "      Successfully uninstalled gast-0.3.3\n",
            "  Found existing installation: tensorflow 2.4.0\n",
            "    Uninstalling tensorflow-2.4.0:\n",
            "      Successfully uninstalled tensorflow-2.4.0\n",
            "Successfully installed gast-0.2.2 q-2.6 tensorboard-2.1.1 tensorflow-2.1.0 tensorflow-estimator-2.1.0\n",
            "Requirement already satisfied: q in /usr/local/lib/python3.6/dist-packages (2.6)\n",
            "Collecting keras==2.3.1\n",
            "\u001b[?25l  Downloading https://files.pythonhosted.org/packages/ad/fd/6bfe87920d7f4fd475acd28500a42482b6b84479832bdc0fe9e589a60ceb/Keras-2.3.1-py2.py3-none-any.whl (377kB)\n",
            "\u001b[K     |████████████████████████████████| 378kB 12.8MB/s \n",
            "\u001b[?25hRequirement already satisfied: h5py in /usr/local/lib/python3.6/dist-packages (from keras==2.3.1) (2.10.0)\n",
            "Requirement already satisfied: six>=1.9.0 in /usr/local/lib/python3.6/dist-packages (from keras==2.3.1) (1.15.0)\n",
            "Requirement already satisfied: keras-preprocessing>=1.0.5 in /usr/local/lib/python3.6/dist-packages (from keras==2.3.1) (1.1.2)\n",
            "Requirement already satisfied: pyyaml in /usr/local/lib/python3.6/dist-packages (from keras==2.3.1) (3.13)\n",
            "Requirement already satisfied: scipy>=0.14 in /usr/local/lib/python3.6/dist-packages (from keras==2.3.1) (1.4.1)\n",
            "Requirement already satisfied: numpy>=1.9.1 in /usr/local/lib/python3.6/dist-packages (from keras==2.3.1) (1.19.4)\n",
            "Requirement already satisfied: keras-applications>=1.0.6 in /usr/local/lib/python3.6/dist-packages (from keras==2.3.1) (1.0.8)\n",
            "Installing collected packages: keras\n",
            "  Found existing installation: Keras 2.4.3\n",
            "    Uninstalling Keras-2.4.3:\n",
            "      Successfully uninstalled Keras-2.4.3\n",
            "Successfully installed keras-2.3.1\n"
          ],
          "name": "stdout"
        }
      ]
    },
    {
      "cell_type": "code",
      "metadata": {
        "colab": {
          "base_uri": "https://localhost:8080/"
        },
        "id": "xCMX7kqnTToD",
        "outputId": "0983b616-ba96-44d3-ff8c-65e43940e7a4"
      },
      "source": [
        "# Import libraries\n",
        "import warnings\n",
        "warnings.filterwarnings(\"ignore\")\n",
        "\n",
        "from time import time\n",
        "import pandas as pd\n",
        "import numpy as np\n",
        "import os \n",
        "import cv2\n",
        "from PIL import Image\n",
        "import seaborn as sns\n",
        "import matplotlib.pyplot as plt\n",
        "%matplotlib inline\n",
        "\n",
        "import segmentation_models\n",
        "print(segmentation_models.__version__)\n",
        "\n",
        "from sklearn.metrics import classification_report, multilabel_confusion_matrix\n",
        "\n",
        "import keras\n",
        "from keras.preprocessing.image import ImageDataGenerator\n",
        "from keras import backend as K\n",
        "from keras.layers import GlobalAveragePooling2D, Dense, Conv2D, BatchNormalization, Dropout\n",
        "from keras.models import Model, load_model\n",
        "import tensorflow as tf\n",
        "from tensorflow.python.keras.callbacks import TensorBoard\n",
        "from keras.callbacks import ModelCheckpoint\n",
        "from sklearn.model_selection import train_test_split\n",
        "import seaborn\n",
        "import segmentation_models as sm\n",
        "from segmentation_models import Unet\n",
        "from segmentation_models import get_preprocessing\n",
        "\n",
        "import albumentations as A\n",
        "from tensorflow.keras.models import Sequential\n",
        "from tensorflow.keras.utils import Sequence"
      ],
      "execution_count": 4,
      "outputs": [
        {
          "output_type": "stream",
          "text": [
            "Using TensorFlow backend.\n"
          ],
          "name": "stderr"
        },
        {
          "output_type": "stream",
          "text": [
            "Segmentation Models: using `keras` framework.\n",
            "1.0.1\n"
          ],
          "name": "stdout"
        }
      ]
    },
    {
      "cell_type": "markdown",
      "metadata": {
        "id": "1V7sKK1MUUNG"
      },
      "source": [
        "\n",
        "Utility functions, metrics and DataGenerator"
      ]
    },
    {
      "cell_type": "code",
      "metadata": {
        "id": "r37MtmBkUP1a"
      },
      "source": [
        "# We need a function to convert EncodedPixels into mask\n",
        "# https://www.kaggle.com/paulorzp/rle-functions-run-lenght-encode-decode\n",
        "def mask2rle(img):\n",
        "    '''\n",
        "    img: numpy array, 1 - mask, 0 - background\n",
        "    Returns run length as string formated\n",
        "    '''\n",
        "    pixels= img.T.flatten()\n",
        "    pixels = np.concatenate([[0], pixels, [0]])\n",
        "    runs = np.where(pixels[1:] != pixels[:-1])[0] + 1\n",
        "    runs[1::2] -= runs[::2]\n",
        "    return ' '.join(str(x) for x in runs)\n",
        "\n",
        "def rle2mask(mask_rle, shape=(1600,256)):\n",
        "    '''\n",
        "    mask_rle: run-length as string formated (start length)\n",
        "    shape: (width,height) of array to return \n",
        "    Returns numpy array, 1 - mask, 0 - background\n",
        "\n",
        "    '''\n",
        "    s = mask_rle.split()\n",
        "    starts, lengths = [np.asarray(x, dtype=int) for x in (s[0:][::2], s[1:][::2])]\n",
        "    starts -= 1\n",
        "    ends = starts + lengths\n",
        "    img = np.zeros(shape[0]*shape[1], dtype=np.uint8)\n",
        "    for lo, hi in zip(starts, ends):\n",
        "        img[lo:hi] = 1\n",
        "    return img.reshape(shape).T\n",
        "\n",
        "# Below metrics are useful for loading saved models\n",
        "\n",
        "# https://www.kaggle.com/xhlulu/severstal-simple-keras-u-net-boilerplate\n",
        "# COMPETITION METRIC \n",
        "def dice_coef(y_true, y_pred, smooth=K.epsilon()):\n",
        "    '''\n",
        "    This function returns dice coefficient of similarity between y_true and y_pred\n",
        "    Dice coefficient is also referred to as F1_score, but we will use this name for image segmentation models\n",
        "    For example, \n",
        "    let an instance on y_true and y_pred be [[1,1],[0,1]] and [[1,0],[0,1]]\n",
        "    this metric first converts the above into [1,1,0,1] abd [1,0,0,1],\n",
        "    then intersection is calculated as 1*1 + 1*0 + 0*1 + 1*1 = 2 and sum(y_true)+sum(y_pred)= 3+2 = 5\n",
        "    this returns the value (2.* 2 + 10e-7)/(3 + 2 + 10e-7) ~ 0.8    \n",
        "    '''\n",
        "    y_true_f = K.flatten(y_true)\n",
        "    y_pred_f = K.flatten(y_pred)\n",
        "    intersection = K.sum(y_true_f * y_pred_f)\n",
        "    return (2. * intersection + smooth) / (K.sum(y_true_f) + K.sum(y_pred_f) + smooth)\n",
        "\n",
        "# Custom metrics, https://stackoverflow.com/questions/59196793/why-are-my-metrics-of-my-cnn-not-changing-with-each-epoch\n",
        "def recall_m(y_true, y_pred):\n",
        "    '''\n",
        "    This function returns recall_score between y_true and y_pred\n",
        "    This function is ported as a metric to the Neural Network Models\n",
        "    Keras backend is used to take care of batch type training, the metric takes in a batch of y_pred and corresponding y_pred \n",
        "    as input and returns recall score of the batch\n",
        "    '''\n",
        "    true_positives = K.sum(K.round(K.clip(y_true * y_pred, 0, 1))) # calculates number of true positives\n",
        "    possible_positives = K.sum(K.round(K.clip(y_true, 0, 1)))      # calculates number of actual positives\n",
        "    recall = true_positives / (possible_positives + K.epsilon())   # K.epsilon takes care of non-zero divisions\n",
        "    return recall\n",
        "\n",
        "def precision_m(y_true, y_pred):\n",
        "    '''\n",
        "    This function returns precison_score between y_true and y_pred\n",
        "    This function is ported as a metric to the Neural Network Models\n",
        "    Keras backend is used to take care of batch type training, the metric takes in a batch of y_pred and corresponding y_pred \n",
        "    as input and returns prediction score of the batch\n",
        "    '''\n",
        "    true_positives = K.sum(K.round(K.clip(y_true * y_pred, 0, 1)))  # calculates number of true positives\n",
        "    predicted_positives = K.sum(K.round(K.clip(y_pred, 0, 1)))      # calculates number of predicted positives   \n",
        "    precision = true_positives /(predicted_positives + K.epsilon()) # K.epsilon takes care of non-zero divisions\n",
        "    return precision\n",
        "    \n",
        "def f1_score_m(y_true, y_pred):\n",
        "    '''\n",
        "    This function returns f1_score between y_true and y_pred\n",
        "    This \n",
        "    This function is ported as a metric to the Neural Network Models\n",
        "    Keras backend is used to take care of batch type training, the metric takes in a batch of y_pred and corresponding y_pred \n",
        "    as input and returns f1 score of the batch\n",
        "    '''\n",
        "    precision = precision_m(y_true, y_pred)  # calls precision metric and takes the score of precision of the batch\n",
        "    recall = recall_m(y_true, y_pred)        # calls recall metric and takes the score of precision of the batch\n",
        "    return 2*((precision*recall)/(precision+recall+K.epsilon()))\n",
        "\n",
        "def area(i):\n",
        "    '''\n",
        "    Input: EncodedPixels (str)\n",
        "    Output: number of pixels having the defect\n",
        "    '''\n",
        "    return sum([int(k) for k in i.split(' ')[1::2]])\n",
        "\n",
        "class test_DataGenerator_3(keras.utils.Sequence):\n",
        "    def __init__(self, df, batch_size = 1, image_path = './raw_data/',\n",
        "                 preprocess=None, info={}):\n",
        "        super().__init__()\n",
        "        self.df = df\n",
        "        self.batch_size = batch_size\n",
        "        self.preprocess = preprocess\n",
        "        self.info = info\n",
        "        self.data_path = image_path\n",
        "        self.on_epoch_end()\n",
        "    def __len__(self):\n",
        "        return int(np.floor(len(self.df) / self.batch_size))\n",
        "    def on_epoch_end(self):\n",
        "        self.indexes = np.arange(len(self.df))\n",
        "    def __getitem__(self, index): \n",
        "        '''\n",
        "        The DataGenerator takes ImageIds of batch size 1 and returns Image array to the model.\n",
        "        With the help of ImageIds the DataGenerator locates the Image file in the path, the image is read and resized from\n",
        "        256x1600 to 256x800.\n",
        "        '''\n",
        "        X = np.empty((self.batch_size,256,800,3),dtype=np.float32)\n",
        "        indexes = self.indexes[index*self.batch_size:(index+1)*self.batch_size]\n",
        "        for i,f in enumerate(self.df['ImageId'].iloc[indexes]):\n",
        "            self.info[index*self.batch_size+i]=f\n",
        "            X[i,] = Image.open(self.data_path + f).resize((800,256))      \n",
        "        if self.preprocess!=None: X = self.preprocess(X)\n",
        "        return X\n"
      ],
      "execution_count": 5,
      "outputs": []
    },
    {
      "cell_type": "code",
      "metadata": {
        "id": "N1V_-eoxcks1"
      },
      "source": [
        "class AugmentDataGenerator(Sequence):\n",
        "    def __init__(self, datagen, augment=None):\n",
        "        self.datagen = datagen\n",
        "        if augment is None:\n",
        "            self.augment = A.Compose([])\n",
        "        else:\n",
        "            self.augment = augment\n",
        "\n",
        "    def __len__(self):\n",
        "        return len(self.datagen)\n",
        "\n",
        "    def __getitem__(self, x):\n",
        "        images, *rest = self.datagen[x]\n",
        "        augmented = []\n",
        "        for image in images:\n",
        "            image = self.augment(image=image)['image']\n",
        "            augmented.append(image)\n",
        "        return (np.array(augmented), *rest)"
      ],
      "execution_count": 19,
      "outputs": []
    },
    {
      "cell_type": "markdown",
      "metadata": {
        "id": "EMERx03_Um3s"
      },
      "source": [
        "Loading Data and saved Models"
      ]
    },
    {
      "cell_type": "code",
      "metadata": {
        "id": "Zt97eAorUir2"
      },
      "source": [
        "#! 7z e './severstal-steel-defect-detection.zip' -oraw_data   train_images/*.jpg  # https://stackoverflow.com/questions/31984387/command-line-for-7z-to-extract-specific-files-from-specific-folders-inside-an-ar\n",
        "train_image_names = os.listdir('./train_images/')\n",
        "\n",
        "#! 7z e './severstal-steel-defect-detection.zip' -oraw_data   test_images/*.jpg\n",
        "test_image_names = [i for i in os.listdir('./raw_data') if i not in train_image_names]\n",
        "\n",
        "#! 7z e './severstal-steel-defect-detection.zip' -oraw_data   train.csv\n",
        "trainLabels = pd.read_csv('./train.csv')"
      ],
      "execution_count": 6,
      "outputs": []
    },
    {
      "cell_type": "code",
      "metadata": {
        "id": "vpDe-lExUvVk"
      },
      "source": [
        "dependencies = {\n",
        "        'recall_m':recall_m,\n",
        "        'precision_m':precision_m,\n",
        "        'dice_coef':dice_coef,\n",
        "        'f1_score_m':f1_score_m,\n",
        "        'dice_loss':sm.losses.dice_loss\n",
        "    }"
      ],
      "execution_count": 7,
      "outputs": []
    },
    {
      "cell_type": "markdown",
      "metadata": {
        "id": "KWgIU0UMqjdJ"
      },
      "source": [
        "Load Models"
      ]
    },
    {
      "cell_type": "code",
      "metadata": {
        "colab": {
          "base_uri": "https://localhost:8080/"
        },
        "id": "kOGac1o-VGBC",
        "outputId": "7b776c0c-57b9-4918-fa06-cac6e72e211e"
      },
      "source": [
        "print('Load binary model in ...')\n",
        "model_binary = load_model('./binary_model_1204.hdf5', custom_objects=dependencies)\n",
        "print('Load multi class model in ...')\n",
        "model_multi = load_model('./multi_class_model_1229.h5', custom_objects=dependencies) #0105\n",
        "print('Load segmentation models in ...')\n",
        "model_segment_1 = load_model('./segment_model_defect1_0103.h5', custom_objects=dependencies)\n",
        "model_segment_2 = load_model('./segment_model_defect2_0103.h5', custom_objects=dependencies) #0105\n",
        "model_segment_3 = load_model('./segment_model_defect3_0103.h5', custom_objects=dependencies)\n",
        "model_segment_4 = load_model('./segment_model_defect4_0103.h5', custom_objects=dependencies)"
      ],
      "execution_count": 8,
      "outputs": [
        {
          "output_type": "stream",
          "text": [
            "Load binary model in ...\n",
            "Load multi class model in ...\n",
            "Load segmentation models in ...\n"
          ],
          "name": "stdout"
        }
      ]
    },
    {
      "cell_type": "markdown",
      "metadata": {
        "id": "SXp0BidHWs_S"
      },
      "source": [
        "Predictor functions"
      ]
    },
    {
      "cell_type": "code",
      "metadata": {
        "id": "Po7O3lu7Woq3"
      },
      "source": [
        "def pred_classification(X):\n",
        "    '''\n",
        "    Input: ImageIds in form of a dataframe\n",
        "    Return: Predictions of classification models\n",
        "    '''\n",
        "    X = X.reset_index().drop('index',axis=1)\n",
        "    data_generator = ImageDataGenerator(rescale=1./255).flow_from_dataframe(dataframe=X, directory='./raw_data/',\n",
        "                                                                            x_col=\"ImageId\", class_mode = None, \n",
        "                                                                            target_size=(256,512), batch_size=1, shuffle=False)\n",
        "    #add 0108\n",
        "    data_generator = AugmentDataGenerator(data_generator, augment= None)\n",
        "\n",
        "    data_preds_binary = model_binary.predict_generator(data_generator,verbose=0)\n",
        "    data_preds_multi_label = model_multi.predict_generator(data_generator,verbose=0)\n",
        "    data_classification = pd.DataFrame(data_preds_multi_label, columns = ['defect_1','defect_2','defect_3','defect_4'])\n",
        "    data_classification['hasDefect'] = data_preds_binary\n",
        "    data_classification['ImageId'] = X['ImageId']\n",
        "    return data_classification[['ImageId','hasDefect','defect_1','defect_2','defect_3','defect_4']]"
      ],
      "execution_count": 9,
      "outputs": []
    },
    {
      "cell_type": "code",
      "metadata": {
        "id": "em0qfRkfXb3h"
      },
      "source": [
        "def pred_segmentation(X):\n",
        "    '''\n",
        "    Input: ImageIds in form of a dataframe\n",
        "    Return: Predictions of segmentation models\n",
        "    '''\n",
        "    X = X.reset_index().drop('index',axis=1)\n",
        "    preprocess = get_preprocessing('efficientnetb1')\n",
        "    tmp=[]\n",
        "    loop_num = 50\n",
        "    for j in range((len(X)//loop_num)+1):\n",
        "        test_dataf = X[loop_num*j:loop_num*j+loop_num]\n",
        "        test_batches =  test_DataGenerator_3(test_dataf,preprocess=preprocess)\n",
        "        test_preds_1 = model_segment_1.predict_generator(test_batches,verbose=0)\n",
        "        test_preds_2 = model_segment_2.predict_generator(test_batches,verbose=0)\n",
        "        test_preds_3 = model_segment_3.predict_generator(test_batches,verbose=0)\n",
        "        test_preds_4 = model_segment_4.predict_generator(test_batches,verbose=0)\n",
        "        for i in range(len(test_preds_1)):\n",
        "            ep1 = mask2rle(np.array((Image.fromarray((test_preds_1[i][:,:,0])>=0.5)).resize((1600,256))).astype(int))\n",
        "            ep2 = mask2rle(np.array((Image.fromarray((test_preds_2[i][:,:,0])>=0.5)).resize((1600,256))).astype(int))\n",
        "            ep3 = mask2rle(np.array((Image.fromarray((test_preds_3[i][:,:,0])>=0.5)).resize((1600,256))).astype(int))\n",
        "            ep4 = mask2rle(np.array((Image.fromarray((test_preds_4[i][:,:,0])>=0.5)).resize((1600,256))).astype(int))\n",
        "            tmp.append([test_dataf.ImageId.iloc[i],ep1,ep2,ep3,ep4])\n",
        "\n",
        "    return pd.DataFrame(tmp,columns=['ImageId','EncodedPixels_1','EncodedPixels_2','EncodedPixels_3','EncodedPixels_4'])"
      ],
      "execution_count": 10,
      "outputs": []
    },
    {
      "cell_type": "code",
      "metadata": {
        "id": "vDLP0vvvXiEE"
      },
      "source": [
        "def pred_combined(X):\n",
        "    '''\n",
        "    Input: ImageId (dataframe)\n",
        "    Return: Comdined dataframe of output of pred_classification function and pred_segmentation function\n",
        "    '''\n",
        "    X = X.reset_index().drop('index',axis=1)\n",
        "    return pred_classification(X).merge(pred_segmentation(X),on=['ImageId'])\n",
        "    \n",
        "def steel_prediction(X):\n",
        "    '''\n",
        "    Function-1:\n",
        "    Input: ImageId(dataframe)\n",
        "    Process: Calls pred_combined which calls pred_classification and pred_segmentation\n",
        "            Applies thresholds -> area and classification probability\n",
        "    Return: DataFrame (columns = ImageId_ClassId,EncodedPixels)\n",
        "    \n",
        "    '''\n",
        "    X = X.reset_index().drop('index',axis=1)\n",
        "    p = pred_combined(X)\n",
        "    tmp = []\n",
        "    for i in range(len(p)):        \n",
        "        j, b, m1, m2, m3, m4, ep1, ep2, ep3, ep4 = p.iloc[i]\n",
        "        # randomly selected classification threshold values to get high recall \n",
        "        # for no defect binary classifier and high precision for multi-label classifier \n",
        "        # while not compromising much on other metrics\n",
        "        \n",
        "        # area thresholds are determined from EDA performed only on train dataset\n",
        "\n",
        "        # ------------- threshold can modified ------------------ #\n",
        "\n",
        "        if area(ep1)>=600 and b>=0.90 and m1>=0.4: \n",
        "            tmp.append([j+'_1',ep1])\n",
        "        else:\n",
        "            tmp.append([j+'_1',''])\n",
        "\n",
        "        if area(ep2)>=600 and b>=0.85 and m2>=0.4:\n",
        "            tmp.append([j+'_2',ep2])\n",
        "        else:\n",
        "            tmp.append([j+'_2',''])\n",
        "\n",
        "        if area(ep3)>=900 and b>=0.85 and m3>=0.4:\n",
        "            tmp.append([j+'_3',ep3])\n",
        "        else:\n",
        "            tmp.append([j+'_3',''])\n",
        "            \n",
        "        if area(ep4)>=2000 and b>=0.85 and m4>=0.4:\n",
        "            tmp.append([j+'_4',ep4])\n",
        "        else:\n",
        "            tmp.append([j+'_4',''])\n",
        "    return pd.DataFrame(tmp, columns = ['ImageId_ClassId','EncodedPixels'])\n"
      ],
      "execution_count": 15,
      "outputs": []
    },
    {
      "cell_type": "markdown",
      "metadata": {
        "id": "7TR4A3zBYEfK"
      },
      "source": [
        "steel_prediction() is final functions defined for generating predictions"
      ]
    },
    {
      "cell_type": "markdown",
      "metadata": {
        "id": "lrFFJDg7juAJ"
      },
      "source": [
        "# ***MAKE PREDICT***"
      ]
    },
    {
      "cell_type": "markdown",
      "metadata": {
        "id": "wMCwD2alj4cg"
      },
      "source": [
        "Determining time taken by the model for generating predictions on a new unseen image:"
      ]
    },
    {
      "cell_type": "code",
      "metadata": {
        "id": "OQFCNyNpncwm"
      },
      "source": [
        "raw_test = pd.DataFrame(test_image_names,columns=['ImageId'])"
      ],
      "execution_count": 12,
      "outputs": []
    },
    {
      "cell_type": "code",
      "metadata": {
        "colab": {
          "base_uri": "https://localhost:8080/"
        },
        "id": "pIeHUL9yjff4",
        "outputId": "5be924fd-e48b-4574-f950-27a14abc0610"
      },
      "source": [
        "%timeit c2 = steel_prediction(raw_test[0:10])"
      ],
      "execution_count": 15,
      "outputs": [
        {
          "output_type": "stream",
          "text": [
            "Found 10 validated image filenames.\n",
            "Found 10 validated image filenames.\n",
            "Found 10 validated image filenames.\n",
            "Found 10 validated image filenames.\n",
            "The slowest run took 12.99 times longer than the fastest. This could mean that an intermediate result is being cached.\n",
            "1 loop, best of 3: 2.36 s per loop\n"
          ],
          "name": "stdout"
        }
      ]
    },
    {
      "cell_type": "markdown",
      "metadata": {
        "id": "-xW6clkfkdnY"
      },
      "source": [
        "10 images 2.27 sec"
      ]
    },
    {
      "cell_type": "markdown",
      "metadata": {
        "id": "JQ0f_DbYkjQg"
      },
      "source": [
        "Generating Predictions on raw test dataset for submission on Kaggle"
      ]
    },
    {
      "cell_type": "code",
      "metadata": {
        "colab": {
          "base_uri": "https://localhost:8080/"
        },
        "id": "KZcfAxxQkZHK",
        "outputId": "89a35c6d-e419-46ec-cea3-897e4b248fc1"
      },
      "source": [
        "c2 = steel_prediction(raw_test)\n",
        "c2.to_csv('./severstal_final_test_preds_0108_2.csv',index=False)\n",
        "c2.shape\n"
      ],
      "execution_count": 16,
      "outputs": [
        {
          "output_type": "stream",
          "text": [
            "Found 5506 validated image filenames.\n"
          ],
          "name": "stdout"
        },
        {
          "output_type": "execute_result",
          "data": {
            "text/plain": [
              "(22024, 2)"
            ]
          },
          "metadata": {
            "tags": []
          },
          "execution_count": 16
        }
      ]
    },
    {
      "cell_type": "markdown",
      "metadata": {
        "id": "fCG7ZF3SfLe1"
      },
      "source": [
        "---"
      ]
    },
    {
      "cell_type": "markdown",
      "metadata": {
        "id": "p3X20xg01Bcc"
      },
      "source": [
        "# ***Evaluation(unfinish)***"
      ]
    },
    {
      "cell_type": "markdown",
      "metadata": {
        "id": "4Vy0Kss1jIY-"
      },
      "source": [
        "Evaluate on training data"
      ]
    },
    {
      "cell_type": "code",
      "metadata": {
        "id": "dyuoi0QHVnNo"
      },
      "source": [
        "def get_data():    \n",
        "    '''\n",
        "    Used to generate X_train, X_val and X_test, each include corresponding Y data also\n",
        "    (Raw Data)\n",
        "    '''\n",
        "    tr_img_id = []\n",
        "    tr_cls_id = []\n",
        "    for i in train_image_names:\n",
        "        tr_img_id.append(i)\n",
        "        tr_cls_id.append(1)\n",
        "        tr_img_id.append(i)\n",
        "        tr_cls_id.append(2)\n",
        "        tr_img_id.append(i)\n",
        "        tr_cls_id.append(3)\n",
        "        tr_img_id.append(i)\n",
        "        tr_cls_id.append(4)\n",
        "    train_img_nms = pd.DataFrame(tr_img_id,columns=['ImageId'])\n",
        "    train_img_nms['ClassId'] = tr_cls_id\n",
        "\n",
        "    train_df = pd.merge(train_img_nms, trainLabels,how='outer',on=['ImageId','ClassId'])\n",
        "    train_df = train_df.fillna('')\n",
        "\n",
        "    train_data = pd.pivot_table(train_df, values='EncodedPixels', index='ImageId',columns='ClassId', aggfunc=np.sum).astype(str)\n",
        "    train_data = train_data.reset_index()\n",
        "    train_data.columns = ['ImageId','Defect_1','Defect_2','Defect_3','Defect_4']\n",
        "\n",
        "    tmp = []\n",
        "    for i in range(len(train_data)):\n",
        "        if all((train_data['Defect_1'][i]=='',train_data['Defect_2'][i]=='',train_data['Defect_3'][i]=='',train_data['Defect_4'][i]=='')):\n",
        "            tmp.append(0)\n",
        "        else:\n",
        "            tmp.append(1)\n",
        "    train_data['hasDefect'] = tmp\n",
        "\n",
        "    tmp = []\n",
        "    for i in range(len(train_data)):\n",
        "        if train_data['Defect_1'][i]=='':\n",
        "            tmp.append(0)\n",
        "        else:\n",
        "            tmp.append(1)\n",
        "    train_data['hasDefect_1'] = tmp\n",
        "\n",
        "    tmp = []\n",
        "    for i in range(len(train_data)):\n",
        "        if train_data['Defect_2'][i]=='':\n",
        "            tmp.append(0)\n",
        "        else:\n",
        "            tmp.append(1)\n",
        "    train_data['hasDefect_2'] = tmp\n",
        "\n",
        "    tmp = []\n",
        "    for i in range(len(train_data)):\n",
        "        if train_data['Defect_3'][i]=='':\n",
        "            tmp.append(0)\n",
        "        else:\n",
        "            tmp.append(1)\n",
        "    train_data['hasDefect_3'] = tmp\n",
        "\n",
        "    tmp = []\n",
        "    for i in range(len(train_data)):\n",
        "        if train_data['Defect_4'][i]=='':\n",
        "            tmp.append(0)\n",
        "        else:\n",
        "            tmp.append(1)\n",
        "    train_data['hasDefect_4'] = tmp\n",
        "\n",
        "\n",
        "    # For stratified sampling, stratified based on minority label priority\n",
        "    # Label 2 : 247\n",
        "    # Label 4 : 801\n",
        "    # Label 1 : 897\n",
        "    # Label 3 : 5150\n",
        "    tmp = []\n",
        "    for i in range(len(train_data)):\n",
        "        if train_data['hasDefect_2'].iloc[i]==1:\n",
        "            tmp.append(2)\n",
        "        elif train_data['hasDefect_4'].iloc[i]==1:\n",
        "            tmp.append(4)\n",
        "        elif train_data['hasDefect_1'].iloc[i]==1:\n",
        "            tmp.append(1)\n",
        "        elif train_data['hasDefect_3'].iloc[i]==1:\n",
        "            tmp.append(3)\n",
        "        else:\n",
        "            tmp.append(0)\n",
        "    train_data['stratify']=tmp\n",
        "\n",
        "    X = train_data.copy()\n",
        "    X_train, X_test = train_test_split(X, test_size = 0.1, stratify = X['stratify'],random_state=42)\n",
        "    X_train, X_val = train_test_split(X_train, test_size = 0.2, stratify = X_train['stratify'],random_state=42)\n",
        "    X_train = X_train.drop(['stratify'], axis = 1)\n",
        "    X_val = X_val.drop(['stratify'], axis = 1)\n",
        "    X_test = X_test.drop(['stratify'], axis = 1)\n",
        "    return X_train, X_val, X_test"
      ],
      "execution_count": 14,
      "outputs": []
    },
    {
      "cell_type": "code",
      "metadata": {
        "colab": {
          "base_uri": "https://localhost:8080/"
        },
        "id": "FX7YZKdcX1Lz",
        "outputId": "3ae8f476-9bee-487e-fa7f-19a3a3372a08"
      },
      "source": [
        "# For Evaluate  \n",
        "# Loading datasets from raw train dataset\n",
        "train, val, test = get_data()\n",
        "print(train.shape, val.shape, test.shape)"
      ],
      "execution_count": 19,
      "outputs": [
        {
          "output_type": "stream",
          "text": [
            "(9048, 10) (2263, 10) (1257, 10)\n"
          ],
          "name": "stdout"
        }
      ]
    },
    {
      "cell_type": "code",
      "metadata": {
        "id": "6yGOuRmwXtYV"
      },
      "source": [
        "def dice_metric(str_true,str_pred):\n",
        "    '''\n",
        "    Input: true and predicted EncodedPixel strings\n",
        "    Checks for empty strings and determines dice coefficient of non empty (str_true,str_pred) pair\n",
        "    Return: Dice similarity coefficient of the two strings\n",
        "    '''\n",
        "    if str_true=='' and str_pred=='':\n",
        "        return 1\n",
        "    elif str_true!='' and str_pred!='':\n",
        "        y_true_f = rle2mask(str_true).flatten() \n",
        "        y_pred_f = rle2mask(str_pred).flatten() \n",
        "        intersection = sum(y_true_f * y_pred_f)\n",
        "        return np.round((2. * intersection + K.epsilon()) / (sum(y_true_f) + sum(y_pred_f) + K.epsilon()),8)\n",
        "    else: \n",
        "        return 0\n",
        "\n",
        "    \n",
        "    \n",
        "def steel_evaluation(X,Y):   \n",
        "    '''\n",
        "    Function-2:\n",
        "    Input: ImageId (DataFrame), defect details\n",
        "    Calls steel_prediction() and dice_metric()\n",
        "    Return: metrics, classification_report and confusion_matrix\n",
        "    '''\n",
        "    X = X.reset_index().drop('index',axis=1)\n",
        "    Y = Y.reset_index().drop('index',axis=1)\n",
        "    c1 = steel_prediction(X)\n",
        "    c1['ImageId'] = c1['ImageId_ClassId'].apply(lambda s: s.split('_')[0])\n",
        "    c1['ClassId'] = c1['ImageId_ClassId'].apply(lambda s: s.split('_')[1])\n",
        "    c1 = pd.pivot_table(c1, values='EncodedPixels', index='ImageId',columns='ClassId', aggfunc=np.sum).astype(str)\n",
        "    c1 = c1.reset_index()\n",
        "    c1.columns = ['ImageId','Defect_1','Defect_2','Defect_3','Defect_4']\n",
        "    c1 = X.merge(c1, how = 'inner',on='ImageId',sort = False)\n",
        "    \n",
        "    tmp = []\n",
        "    for i in range(len(c1)):\n",
        "        if all((c1['Defect_1'][i]=='',c1['Defect_2'][i]=='',c1['Defect_3'][i]=='',c1['Defect_4'][i]=='')):\n",
        "            tmp.append(0)\n",
        "        else:\n",
        "            tmp.append(1)\n",
        "    c1['hasDefect'] = tmp\n",
        "\n",
        "    tmp = []\n",
        "    for i in range(len(c1)):\n",
        "        if c1['Defect_1'][i]=='':\n",
        "            tmp.append(0)\n",
        "        else:\n",
        "            tmp.append(1)\n",
        "    c1['hasDefect_1'] = tmp\n",
        "\n",
        "    tmp = []\n",
        "    for i in range(len(c1)):\n",
        "        if c1['Defect_2'][i]=='':\n",
        "            tmp.append(0)\n",
        "        else:\n",
        "            tmp.append(1)\n",
        "    c1['hasDefect_2'] = tmp\n",
        "\n",
        "    tmp = []\n",
        "    for i in range(len(c1)):\n",
        "        if c1['Defect_3'][i]=='':\n",
        "            tmp.append(0)\n",
        "        else:\n",
        "            tmp.append(1)\n",
        "    c1['hasDefect_3'] = tmp\n",
        "\n",
        "    tmp = []\n",
        "    for i in range(len(c1)):\n",
        "        if c1['Defect_4'][i]=='':\n",
        "            tmp.append(0)\n",
        "        else:\n",
        "            tmp.append(1)\n",
        "    c1['hasDefect_4'] = tmp\n",
        "\n",
        "    Y[['NoDefect']] = 1 - Y[['hasDefect']]\n",
        "    c1[['NoDefect']] = 1 - c1[['hasDefect']]\n",
        "\n",
        "    y_true = Y[['Defect_1', 'Defect_2', 'Defect_3', 'Defect_4', 'hasDefect_1', 'hasDefect_2', 'hasDefect_3', 'hasDefect_4', 'NoDefect']].fillna('')\n",
        "    y_pred = c1[['Defect_1', 'Defect_2', 'Defect_3', 'Defect_4', 'hasDefect_1', 'hasDefect_2', 'hasDefect_3', 'hasDefect_4', 'NoDefect']].fillna('')\n",
        "\n",
        "    EncodedPixels_1 = y_true[['Defect_1']]\n",
        "    EncodedPixels_1.columns = ['Defect_1_true']\n",
        "    EncodedPixels_1['Defect_1_pred'] = y_pred[['Defect_1']]\n",
        "    EncodedPixels_1['dice'] = EncodedPixels_1.apply(lambda x: dice_metric(x.Defect_1_true,x.Defect_1_pred),axis=1)\n",
        "    dice_1 = EncodedPixels_1['dice'].fillna(0).sum()\n",
        "    dice_1 /= len(EncodedPixels_1)\n",
        "\n",
        "    EncodedPixels_2 = y_true[['Defect_2']]\n",
        "    EncodedPixels_2.columns = ['Defect_2_true']\n",
        "    EncodedPixels_2['Defect_2_pred'] = y_pred[['Defect_2']]\n",
        "    EncodedPixels_2['dice'] = EncodedPixels_2.apply(lambda x: dice_metric(x.Defect_2_true,x.Defect_2_pred),axis=1)\n",
        "    dice_2 = EncodedPixels_2['dice'].fillna(0).sum()\n",
        "    dice_2 /= len(EncodedPixels_2)\n",
        "\n",
        "    EncodedPixels_3 = y_true[['Defect_3']]\n",
        "    EncodedPixels_3.columns = ['Defect_3_true']\n",
        "    EncodedPixels_3['Defect_3_pred'] = y_pred[['Defect_3']]\n",
        "    EncodedPixels_3['dice'] = EncodedPixels_3.apply(lambda x: dice_metric(x.Defect_3_true,x.Defect_3_pred),axis=1)\n",
        "    dice_3 = EncodedPixels_3['dice'].fillna(0).sum()\n",
        "    dice_3 /= len(EncodedPixels_3)\n",
        "\n",
        "    EncodedPixels_4 = y_true[['Defect_4']]\n",
        "    EncodedPixels_4.columns = ['Defect_4_true']\n",
        "    EncodedPixels_4['Defect_4_pred'] = y_pred[['Defect_4']]\n",
        "    EncodedPixels_4['dice'] = EncodedPixels_4.apply(lambda x: dice_metric(x.Defect_4_true,x.Defect_4_pred),axis=1)\n",
        "    dice_4 = EncodedPixels_4['dice'].fillna(0).sum()\n",
        "    dice_4 /= len(EncodedPixels_4)\n",
        "\n",
        "    dice_overall = (dice_1 + dice_2 + dice_3 + dice_4)/4\n",
        "    y_true[['hasDefect_1', 'hasDefect_2', 'hasDefect_3', 'hasDefect_4', 'NoDefect']] = y_true[['hasDefect_1', 'hasDefect_2', 'hasDefect_3', 'hasDefect_4', 'NoDefect']].fillna(0).astype(int)\n",
        "    y_pred[['hasDefect_1', 'hasDefect_2', 'hasDefect_3', 'hasDefect_4', 'NoDefect']] = y_pred[['hasDefect_1', 'hasDefect_2', 'hasDefect_3', 'hasDefect_4', 'NoDefect']].fillna(0).astype(int)\n",
        "    \n",
        "    cls_repo = classification_report(y_true[['hasDefect_1', 'hasDefect_2', 'hasDefect_3', 'hasDefect_4', 'NoDefect']], \\\n",
        "                                     y_pred[['hasDefect_1', 'hasDefect_2', 'hasDefect_3', 'hasDefect_4', 'NoDefect']], \\\n",
        "                                     target_names = ['hasDefect_1', 'hasDefect_2', 'hasDefect_3', 'hasDefect_4', 'NoDefect'])\n",
        "    \n",
        "    conf_mat = multilabel_confusion_matrix(y_true[['hasDefect_1', 'hasDefect_2', 'hasDefect_3', 'hasDefect_4', 'NoDefect']], y_pred[['hasDefect_1', 'hasDefect_2', 'hasDefect_3', 'hasDefect_4', 'NoDefect']])\n",
        "    return [[dice_1,dice_2,dice_3,dice_4],[dice_overall], [cls_repo], [conf_mat]]\n",
        "    \n",
        "    \n",
        "    \n",
        "def plt_confusion(d):\n",
        "    '''\n",
        "    Input: Confusion_matrix\n",
        "    Output: Seaborn heatmap visualization (OneVersusRest mode of confusion matrices)\n",
        "    '''\n",
        "    fig, ax = plt.subplots(1,5,figsize=(20,4))\n",
        "    for i in range(4):\n",
        "        seaborn.heatmap(d[i],annot=True,fmt='d',cmap=\"Reds\", ax = ax[i])\n",
        "        ax[i].set_ylabel('Actual')\n",
        "        ax[i].set_xlabel('Predicted')\n",
        "        ax[i].set_title(f'Defect_{i+1} confusion matrix')\n",
        "    seaborn.heatmap(d[4],annot=True,fmt='d',cmap=\"Reds\", ax = ax[4])\n",
        "    ax[4].set_ylabel('Actual')\n",
        "    ax[4].set_xlabel('Predicted')\n",
        "    ax[4].set_title('No defect confusion matrix')\n",
        "    plt.show()"
      ],
      "execution_count": 18,
      "outputs": []
    },
    {
      "cell_type": "markdown",
      "metadata": {
        "id": "tdyzT3SG0VkP"
      },
      "source": [
        "steel_evaluation() is final functions defined for generating evaluations"
      ]
    },
    {
      "cell_type": "markdown",
      "metadata": {
        "id": "4sVEvd6_YYbK"
      },
      "source": [
        "\n",
        "Evaluation on a sample single ImageId"
      ]
    },
    {
      "cell_type": "code",
      "metadata": {
        "colab": {
          "base_uri": "https://localhost:8080/",
          "height": 754
        },
        "id": "e64CcFddYJrL",
        "outputId": "2981fe9d-5a24-4b82-b098-684dfb544bf6"
      },
      "source": [
        "%%time\n",
        "X = train[['ImageId']][2:3]\n",
        "Y = train[['Defect_1', 'Defect_2', 'Defect_3', 'Defect_4', 'hasDefect_1', 'hasDefect_2', 'hasDefect_3', 'hasDefect_4', 'hasDefect']][2:3]\n",
        "dce = steel_evaluation(X, Y)\n",
        "print('-'*50)\n",
        "print('Dice coefficient of each segmentation mask compared with true mask: [defect_1, defect_2, defect_3, defect_4]') # Mean for each defect\n",
        "print(dce[0]) # dice coefficient\n",
        "print('-'*50)\n",
        "print('Classification Report:')\n",
        "print(dce[2][0])\n",
        "print('-'*50)\n",
        "print('Confusion matrix: ')\n",
        "plt_confusion(dce[3][0])\n",
        "print('-'*50)\n",
        "print('Mean Dice Coefficient: (Competition Metric)')\n",
        "print(dce[1][0]) # dice coefficient\n",
        "print('-'*50)"
      ],
      "execution_count": 31,
      "outputs": [
        {
          "output_type": "stream",
          "text": [
            "Found 1 validated image filenames.\n",
            "--------------------------------------------------\n",
            "Dice coefficient of each segmentation mask compared with true mask: [defect_1, defect_2, defect_3, defect_4]\n",
            "[1.0, 1.0, 1.0, 1.0]\n",
            "--------------------------------------------------\n",
            "Classification Report:\n",
            "              precision    recall  f1-score   support\n",
            "\n",
            " hasDefect_1       0.00      0.00      0.00         0\n",
            " hasDefect_2       0.00      0.00      0.00         0\n",
            " hasDefect_3       0.00      0.00      0.00         0\n",
            " hasDefect_4       0.00      0.00      0.00         0\n",
            "    NoDefect       1.00      1.00      1.00         1\n",
            "\n",
            "   micro avg       1.00      1.00      1.00         1\n",
            "   macro avg       0.20      0.20      0.20         1\n",
            "weighted avg       1.00      1.00      1.00         1\n",
            " samples avg       1.00      1.00      1.00         1\n",
            "\n",
            "--------------------------------------------------\n",
            "Confusion matrix: \n"
          ],
          "name": "stdout"
        },
        {
          "output_type": "display_data",
          "data": {
            "image/png": "[encoded data removed]",
            "text/plain": [
              "<Figure size 1440x288 with 10 Axes>"
            ]
          },
          "metadata": {
            "tags": [],
            "needs_background": "light"
          }
        },
        {
          "output_type": "stream",
          "text": [
            "--------------------------------------------------\n",
            "Mean Dice Coefficient: (Competition Metric)\n",
            "1.0\n",
            "--------------------------------------------------\n",
            "CPU times: user 1.29 s, sys: 221 ms, total: 1.51 s\n",
            "Wall time: 1.81 s\n"
          ],
          "name": "stdout"
        }
      ]
    },
    {
      "cell_type": "markdown",
      "metadata": {
        "id": "L2C5s_MFjcX1"
      },
      "source": [
        "Evaluation on a batch of ImageIds"
      ]
    },
    {
      "cell_type": "code",
      "metadata": {
        "colab": {
          "base_uri": "https://localhost:8080/",
          "height": 754
        },
        "id": "aZJK_TpNYXT6",
        "outputId": "8ea9f733-fbd9-48d2-e735-1ce617f23652"
      },
      "source": [
        "%%time\n",
        "X = train[['ImageId']][3:20]\n",
        "Y = train[['Defect_1', 'Defect_2', 'Defect_3', 'Defect_4', 'hasDefect_1', 'hasDefect_2', 'hasDefect_3', 'hasDefect_4', 'hasDefect']][3:20]\n",
        "dce = steel_evaluation(X, Y)\n",
        "print('-'*50)\n",
        "print('Dice coefficient of each segmentation mask compared with true mask: [defect_1, defect_2, defect_3, defect_4]') # Mean for each defect\n",
        "print(dce[0]) # dice coefficient\n",
        "print('-'*50)\n",
        "print('Classification Report:')\n",
        "print(dce[2][0])\n",
        "print('-'*50)\n",
        "print('Confusion matrix: ')\n",
        "plt_confusion(dce[3][0])\n",
        "print('-'*50)\n",
        "print('Mean Dice Coefficient: (Competition Metric)')\n",
        "print(dce[1][0]) # dice coefficient\n",
        "print('-'*50)"
      ],
      "execution_count": 32,
      "outputs": [
        {
          "output_type": "stream",
          "text": [
            "Found 17 validated image filenames.\n",
            "--------------------------------------------------\n",
            "Dice coefficient of each segmentation mask compared with true mask: [defect_1, defect_2, defect_3, defect_4]\n",
            "[1.0, 0.8823529411764706, 0.9212558941176471, 1.0]\n",
            "--------------------------------------------------\n",
            "Classification Report:\n",
            "              precision    recall  f1-score   support\n",
            "\n",
            " hasDefect_1       0.00      0.00      0.00         0\n",
            " hasDefect_2       0.00      0.00      0.00         2\n",
            " hasDefect_3       1.00      1.00      1.00         4\n",
            " hasDefect_4       0.00      0.00      0.00         0\n",
            "    NoDefect       0.85      1.00      0.92        11\n",
            "\n",
            "   micro avg       0.88      0.88      0.88        17\n",
            "   macro avg       0.37      0.40      0.38        17\n",
            "weighted avg       0.78      0.88      0.83        17\n",
            " samples avg       0.88      0.88      0.88        17\n",
            "\n",
            "--------------------------------------------------\n",
            "Confusion matrix: \n"
          ],
          "name": "stdout"
        },
        {
          "output_type": "display_data",
          "data": {
            "image/png": "[encoded data removed]",
            "text/plain": [
              "<Figure size 1440x288 with 10 Axes>"
            ]
          },
          "metadata": {
            "tags": [],
            "needs_background": "light"
          }
        },
        {
          "output_type": "stream",
          "text": [
            "--------------------------------------------------\n",
            "Mean Dice Coefficient: (Competition Metric)\n",
            "0.9509022088235294\n",
            "--------------------------------------------------\n",
            "CPU times: user 6.48 s, sys: 792 ms, total: 7.27 s\n",
            "Wall time: 5.69 s\n"
          ],
          "name": "stdout"
        }
      ]
    }
  ]
}
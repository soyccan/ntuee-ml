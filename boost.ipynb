{
 "cells": [
  {
   "cell_type": "code",
   "execution_count": 1,
   "metadata": {},
   "outputs": [],
   "source": [
    "import pandas as pd\n",
    "import numpy as np\n",
    "import sklearn.model_selection\n",
    "from sklearn.experimental import enable_hist_gradient_boosting\n",
    "import sklearn.ensemble\n",
    "import sklearn.metrics\n",
    "import joblib\n",
    "np.set_printoptions(precision=2, suppress=True)"
   ]
  },
  {
   "cell_type": "code",
   "execution_count": 2,
   "metadata": {},
   "outputs": [],
   "source": [
    "class G:\n",
    "    # global variables\n",
    "    pass"
   ]
  },
  {
   "cell_type": "code",
   "execution_count": 3,
   "metadata": {
    "scrolled": true
   },
   "outputs": [],
   "source": [
    "G.df_train_full = pd.read_csv('X_train', dtype=np.int32)\n",
    "G.df_test_full = pd.read_csv('X_test', dtype=np.int32)\n",
    "G.y_train = np.array(open('Y_train').read().strip('\\n').split('\\n'),\n",
    "                     dtype=np.int8)"
   ]
  },
  {
   "cell_type": "code",
   "execution_count": 4,
   "metadata": {},
   "outputs": [
    {
     "name": "stdout",
     "output_type": "stream",
     "text": [
      "n,d (32561, 137)\n"
     ]
    }
   ],
   "source": [
    "def normalize(df, means, stds):\n",
    "    cols = ['age', 'fnlwgt', 'hours_per_week', 'capital_gain', 'capital_loss']\n",
    "    df = df.copy()\n",
    "    df[cols] = (df[cols] - means[cols]) / stds[cols]\n",
    "    return df\n",
    "\n",
    "def extract(df):\n",
    "    c = len(df.columns)\n",
    "    n = len(df)\n",
    "    d = 1 + c + 5*5 + 5\n",
    "\n",
    "    X = np.zeros((n, d), dtype=np.float64)\n",
    "    X[:, 0] = 1  # bias\n",
    "    X[:, 1:1+c] = df.values\n",
    "\n",
    "    # quadratic term (including cross product)\n",
    "    # ['age', 'fnlwgt', 'hours_per_week', 'capital_gain', 'capital_loss']\n",
    "    idx = np.array([1, 2, 4, 5, 6])\n",
    "    st = 1 + c\n",
    "    en = 1 + c + 5*5\n",
    "    X[:, st:en] = (X[:, idx[:, None]] * X[:, idx[None, :]]).reshape((n, 5*5))\n",
    "    \n",
    "    st = 1 + c + 25\n",
    "    en = 1 + c + 25 + 5\n",
    "    X[:, st:en] = X[:, idx] ** 3\n",
    "\n",
    "    return X\n",
    "\n",
    "def preprocess(df_train, df_test):\n",
    "    df_all = pd.concat((df_train, df_test))\n",
    "    means = df_all.mean()\n",
    "    stds = df_all.std()\n",
    "    \n",
    "    df_train = normalize(df_train, means, stds)\n",
    "    df_test = normalize(df_test, means, stds)\n",
    "    X_train = extract(df_train)\n",
    "    X_test = extract(df_test)\n",
    "    \n",
    "    print('n,d', X_train.shape)\n",
    "\n",
    "    return X_train, X_test\n",
    "\n",
    "G.X_train, G.X_test = preprocess(G.df_train_full, G.df_test_full)\n",
    "# np.savetxt('a.csv',G.X_train,fmt='%.2f',delimiter=',')"
   ]
  },
  {
   "cell_type": "code",
   "execution_count": 5,
   "metadata": {},
   "outputs": [
    {
     "name": "stdout",
     "output_type": "stream",
     "text": [
      "{'mean_fit_time': array([3.99, 4.03, 3.28, 0.91, 4.42, 4.13, 2.85, 0.72, 3.87, 3.99, 2.99,\n",
      "       0.78, 3.88, 3.96, 3.15, 0.83]), 'std_fit_time': array([0.07, 0.09, 0.34, 0.09, 0.16, 0.16, 0.25, 0.02, 0.07, 0.05, 0.24,\n",
      "       0.03, 0.03, 0.05, 0.3 , 0.08]), 'mean_score_time': array([0.07, 0.08, 0.07, 0.01, 0.08, 0.08, 0.06, 0.01, 0.07, 0.07, 0.07,\n",
      "       0.01, 0.08, 0.07, 0.07, 0.02]), 'std_score_time': array([0.  , 0.01, 0.01, 0.  , 0.01, 0.01, 0.01, 0.  , 0.  , 0.01, 0.01,\n",
      "       0.  , 0.02, 0.  , 0.  , 0.02]), 'param_l2_regularization': masked_array(data=[0.001, 0.001, 0.001, 0.001, 0.01, 0.01, 0.01, 0.01,\n",
      "                   0.1, 0.1, 0.1, 0.1, 1, 1, 1, 1],\n",
      "             mask=[False, False, False, False, False, False, False, False,\n",
      "                   False, False, False, False, False, False, False, False],\n",
      "       fill_value='?',\n",
      "            dtype=object), 'param_learning_rate': masked_array(data=[0.001, 0.01, 0.1, 1, 0.001, 0.01, 0.1, 1, 0.001, 0.01,\n",
      "                   0.1, 1, 0.001, 0.01, 0.1, 1],\n",
      "             mask=[False, False, False, False, False, False, False, False,\n",
      "                   False, False, False, False, False, False, False, False],\n",
      "       fill_value='?',\n",
      "            dtype=object), 'param_random_state': masked_array(data=[0, 0, 0, 0, 0, 0, 0, 0, 0, 0, 0, 0, 0, 0, 0, 0],\n",
      "             mask=[False, False, False, False, False, False, False, False,\n",
      "                   False, False, False, False, False, False, False, False],\n",
      "       fill_value='?',\n",
      "            dtype=object), 'params': [{'l2_regularization': 0.001, 'learning_rate': 0.001, 'random_state': 0}, {'l2_regularization': 0.001, 'learning_rate': 0.01, 'random_state': 0}, {'l2_regularization': 0.001, 'learning_rate': 0.1, 'random_state': 0}, {'l2_regularization': 0.001, 'learning_rate': 1, 'random_state': 0}, {'l2_regularization': 0.01, 'learning_rate': 0.001, 'random_state': 0}, {'l2_regularization': 0.01, 'learning_rate': 0.01, 'random_state': 0}, {'l2_regularization': 0.01, 'learning_rate': 0.1, 'random_state': 0}, {'l2_regularization': 0.01, 'learning_rate': 1, 'random_state': 0}, {'l2_regularization': 0.1, 'learning_rate': 0.001, 'random_state': 0}, {'l2_regularization': 0.1, 'learning_rate': 0.01, 'random_state': 0}, {'l2_regularization': 0.1, 'learning_rate': 0.1, 'random_state': 0}, {'l2_regularization': 0.1, 'learning_rate': 1, 'random_state': 0}, {'l2_regularization': 1, 'learning_rate': 0.001, 'random_state': 0}, {'l2_regularization': 1, 'learning_rate': 0.01, 'random_state': 0}, {'l2_regularization': 1, 'learning_rate': 0.1, 'random_state': 0}, {'l2_regularization': 1, 'learning_rate': 1, 'random_state': 0}], 'split0_test_score': array([0.76, 0.85, 0.87, 0.85, 0.76, 0.85, 0.87, 0.84, 0.76, 0.85, 0.87,\n",
      "       0.85, 0.76, 0.85, 0.87, 0.85]), 'split1_test_score': array([0.76, 0.85, 0.87, 0.85, 0.76, 0.85, 0.87, 0.85, 0.76, 0.84, 0.87,\n",
      "       0.86, 0.76, 0.84, 0.87, 0.85]), 'split2_test_score': array([0.76, 0.85, 0.87, 0.85, 0.76, 0.85, 0.87, 0.85, 0.76, 0.85, 0.87,\n",
      "       0.86, 0.76, 0.85, 0.87, 0.86]), 'split3_test_score': array([0.76, 0.85, 0.87, 0.86, 0.76, 0.85, 0.88, 0.86, 0.76, 0.85, 0.87,\n",
      "       0.86, 0.76, 0.85, 0.87, 0.87]), 'split4_test_score': array([0.76, 0.85, 0.87, 0.85, 0.76, 0.85, 0.87, 0.86, 0.76, 0.85, 0.87,\n",
      "       0.85, 0.76, 0.85, 0.87, 0.86]), 'mean_test_score': array([0.76, 0.85, 0.87, 0.85, 0.76, 0.85, 0.87, 0.85, 0.76, 0.85, 0.87,\n",
      "       0.85, 0.76, 0.85, 0.87, 0.86]), 'std_test_score': array([0.  , 0.  , 0.  , 0.  , 0.  , 0.  , 0.  , 0.01, 0.  , 0.  , 0.  ,\n",
      "       0.  , 0.  , 0.  , 0.  , 0.  ]), 'rank_test_score': array([13, 10,  4,  8, 13,  9,  3,  7, 13, 11,  1,  6, 13, 12,  2,  5],\n",
      "      dtype=int32), 'split0_train_score': array([0.76, 0.85, 0.89, 0.88, 0.76, 0.85, 0.89, 0.87, 0.76, 0.85, 0.89,\n",
      "       0.89, 0.76, 0.85, 0.89, 0.89]), 'split1_train_score': array([0.76, 0.85, 0.89, 0.88, 0.76, 0.85, 0.89, 0.88, 0.76, 0.85, 0.89,\n",
      "       0.88, 0.76, 0.85, 0.89, 0.9 ]), 'split2_train_score': array([0.76, 0.85, 0.89, 0.88, 0.76, 0.85, 0.89, 0.88, 0.76, 0.85, 0.89,\n",
      "       0.89, 0.76, 0.85, 0.89, 0.89]), 'split3_train_score': array([0.76, 0.85, 0.89, 0.88, 0.76, 0.85, 0.89, 0.88, 0.76, 0.85, 0.89,\n",
      "       0.89, 0.76, 0.85, 0.89, 0.89]), 'split4_train_score': array([0.76, 0.85, 0.89, 0.87, 0.76, 0.85, 0.89, 0.88, 0.76, 0.85, 0.89,\n",
      "       0.89, 0.76, 0.85, 0.89, 0.9 ]), 'mean_train_score': array([0.76, 0.85, 0.89, 0.88, 0.76, 0.85, 0.89, 0.88, 0.76, 0.85, 0.89,\n",
      "       0.89, 0.76, 0.85, 0.89, 0.89]), 'std_train_score': array([0.  , 0.  , 0.  , 0.01, 0.  , 0.  , 0.  , 0.  , 0.  , 0.  , 0.  ,\n",
      "       0.  , 0.  , 0.  , 0.  , 0.01])}\n"
     ]
    }
   ],
   "source": [
    "clf = sklearn.ensemble.HistGradientBoostingClassifier()\n",
    "grid = sklearn.model_selection.GridSearchCV(\n",
    "        clf,\n",
    "        {\n",
    "            'learning_rate': [0.001, 0.01, 0.1, 1],\n",
    "            'random_state': [0],\n",
    "            'l2_regularization': [0.001, 0.01, 0.1, 1],\n",
    "        },\n",
    "        scoring='accuracy',\n",
    "        n_jobs=4,\n",
    "        cv=5,\n",
    "        return_train_score=True,\n",
    "        refit=True)\n",
    "grid.fit(G.X_train, G.y_train)\n",
    "print(grid.cv_results_)"
   ]
  },
  {
   "cell_type": "code",
   "execution_count": 6,
   "metadata": {},
   "outputs": [
    {
     "name": "stdout",
     "output_type": "stream",
     "text": [
      "[0 0 0 1 0 0 0 1 0 0 1 1 0 0 1 1 0 0 0 1 1 0 0 0 0 1 0 0 0 0 1 0 0 0 0 0 1\n",
      " 0 0 0 1 1 0 0 0 0 0 0 0 0 0 0 0 1 0 0 0 1 1 0 0 0 0 0 0 0 1 0 0 0 1 1 0 0\n",
      " 0 0 0 0 0 0 0 0 0 1 0 0 0 0 0 1 0 0 1 0 0 0 0 0 0 0]\n"
     ]
    }
   ],
   "source": [
    "G.y_test = grid.predict(G.X_test)\n",
    "df_pred = pd.DataFrame({\n",
    "    'id': np.arange(1, len(G.X_test)+1),\n",
    "    'label': G.y_test\n",
    "})\n",
    "df_pred.to_csv('submission.csv', index=False)\n",
    "print(df_pred['label'].values[:100])"
   ]
  },
  {
   "cell_type": "code",
   "execution_count": 8,
   "metadata": {},
   "outputs": [
    {
     "data": {
      "text/plain": [
       "['boost/2.pkl']"
      ]
     },
     "execution_count": 8,
     "metadata": {},
     "output_type": "execute_result"
    }
   ],
   "source": [
    "# joblib.dump(grid, 'boost/2.pkl')"
   ]
  },
  {
   "cell_type": "code",
   "execution_count": null,
   "metadata": {},
   "outputs": [],
   "source": []
  },
  {
   "cell_type": "code",
   "execution_count": null,
   "metadata": {},
   "outputs": [],
   "source": []
  },
  {
   "cell_type": "code",
   "execution_count": null,
   "metadata": {},
   "outputs": [],
   "source": []
  }
 ],
 "metadata": {
  "kernelspec": {
   "display_name": "Python 3",
   "language": "python",
   "name": "python3"
  },
  "language_info": {
   "codemirror_mode": {
    "name": "ipython",
    "version": 3
   },
   "file_extension": ".py",
   "mimetype": "text/x-python",
   "name": "python",
   "nbconvert_exporter": "python",
   "pygments_lexer": "ipython3",
   "version": "3.6.11"
  }
 },
 "nbformat": 4,
 "nbformat_minor": 4
}
